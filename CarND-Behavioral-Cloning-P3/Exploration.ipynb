{
 "cells": [
  {
   "cell_type": "code",
   "execution_count": 14,
   "metadata": {},
   "outputs": [],
   "source": [
    "import os\n",
    "import csv\n",
    "import cv2\n",
    "import numpy as np\n",
    "import pandas as pd\n",
    "from sklearn.utils import shuffle\n",
    "import matplotlib.pyplot as plt\n",
    "from sklearn.model_selection import train_test_split\n",
    "from keras.models import Sequential\n",
    "from keras.layers import Flatten, Dense, Lambda, Dropout, ELU\n",
    "from keras.layers.convolutional import Convolution2D, Cropping2D\n",
    "from keras import backend as K\n",
    "\n",
    "def load_driving_log(path='./data', split='\\\\'):\n",
    "    csv = pd.read_csv(os.path.join(path, 'driving_log.csv'), header=None,\n",
    "                          names=['center','left','right','angle','throttle','break','speed'])\n",
    "\n",
    "    csv.center = csv.center.str.split(split).str[-1]\n",
    "    csv.left = csv.left.str.split(split).str[-1]\n",
    "    csv.right = csv.right.str.split(split).str[-1]\n",
    "    return csv\n",
    "\n",
    "def generator(samples, path='./data/IMG', batch_size=32):\n",
    "    num_samples = len(samples)\n",
    "    print(num_samples)\n",
    "    while 1:\n",
    "        shuffle(samples)\n",
    "    \n",
    "        for offset in range(0, num_samples, batch_size):\n",
    "\n",
    "            images = []\n",
    "            angles = []\n",
    "            batch_samples = samples[offset:offset + batch_size]\n",
    "\n",
    "            for batch_sample in batch_samples:\n",
    "                name = os.path.join(path, 'IMG', batch_sample[0])\n",
    "                image = cv2.resize(cv2.imread(name), (200, 100), interpolation=cv2.INTER_AREA)\n",
    "                image = cv2.cvtColor(image, cv2.COLOR_RGB2YUV)\n",
    "                images.append(image)\n",
    "                angle = float(batch_sample[3])\n",
    "                angles.append(angle)\n",
    "\n",
    "            yield shuffle(np.array(images), np.array(angles))"
   ]
  },
  {
   "cell_type": "code",
   "execution_count": 26,
   "metadata": {},
   "outputs": [
    {
     "data": {
      "text/html": [
       "<div>\n",
       "<style scoped>\n",
       "    .dataframe tbody tr th:only-of-type {\n",
       "        vertical-align: middle;\n",
       "    }\n",
       "\n",
       "    .dataframe tbody tr th {\n",
       "        vertical-align: top;\n",
       "    }\n",
       "\n",
       "    .dataframe thead th {\n",
       "        text-align: right;\n",
       "    }\n",
       "</style>\n",
       "<table border=\"1\" class=\"dataframe\">\n",
       "  <thead>\n",
       "    <tr style=\"text-align: right;\">\n",
       "      <th></th>\n",
       "      <th>center</th>\n",
       "      <th>left</th>\n",
       "      <th>right</th>\n",
       "      <th>steering</th>\n",
       "      <th>throttle</th>\n",
       "      <th>brake</th>\n",
       "      <th>speed</th>\n",
       "    </tr>\n",
       "  </thead>\n",
       "  <tbody>\n",
       "    <tr>\n",
       "      <th>0</th>\n",
       "      <td>/Users/jaydenmilton/Documents/IMG/center_2018_...</td>\n",
       "      <td>/Users/jaydenmilton/Documents/IMG/left_2018_04...</td>\n",
       "      <td>/Users/jaydenmilton/Documents/IMG/right_2018_0...</td>\n",
       "      <td>0.00</td>\n",
       "      <td>0.000000</td>\n",
       "      <td>0</td>\n",
       "      <td>0.840298</td>\n",
       "    </tr>\n",
       "    <tr>\n",
       "      <th>1</th>\n",
       "      <td>/Users/jaydenmilton/Documents/IMG/center_2018_...</td>\n",
       "      <td>/Users/jaydenmilton/Documents/IMG/left_2018_04...</td>\n",
       "      <td>/Users/jaydenmilton/Documents/IMG/right_2018_0...</td>\n",
       "      <td>0.00</td>\n",
       "      <td>0.000000</td>\n",
       "      <td>0</td>\n",
       "      <td>0.828530</td>\n",
       "    </tr>\n",
       "    <tr>\n",
       "      <th>2</th>\n",
       "      <td>/Users/jaydenmilton/Documents/IMG/center_2018_...</td>\n",
       "      <td>/Users/jaydenmilton/Documents/IMG/left_2018_04...</td>\n",
       "      <td>/Users/jaydenmilton/Documents/IMG/right_2018_0...</td>\n",
       "      <td>0.00</td>\n",
       "      <td>0.000000</td>\n",
       "      <td>0</td>\n",
       "      <td>0.816926</td>\n",
       "    </tr>\n",
       "    <tr>\n",
       "      <th>3</th>\n",
       "      <td>/Users/jaydenmilton/Documents/IMG/center_2018_...</td>\n",
       "      <td>/Users/jaydenmilton/Documents/IMG/left_2018_04...</td>\n",
       "      <td>/Users/jaydenmilton/Documents/IMG/right_2018_0...</td>\n",
       "      <td>0.00</td>\n",
       "      <td>0.000000</td>\n",
       "      <td>0</td>\n",
       "      <td>0.803865</td>\n",
       "    </tr>\n",
       "    <tr>\n",
       "      <th>4</th>\n",
       "      <td>/Users/jaydenmilton/Documents/IMG/center_2018_...</td>\n",
       "      <td>/Users/jaydenmilton/Documents/IMG/left_2018_04...</td>\n",
       "      <td>/Users/jaydenmilton/Documents/IMG/right_2018_0...</td>\n",
       "      <td>-0.35</td>\n",
       "      <td>0.417969</td>\n",
       "      <td>0</td>\n",
       "      <td>1.473115</td>\n",
       "    </tr>\n",
       "  </tbody>\n",
       "</table>\n",
       "</div>"
      ],
      "text/plain": [
       "                                              center  \\\n",
       "0  /Users/jaydenmilton/Documents/IMG/center_2018_...   \n",
       "1  /Users/jaydenmilton/Documents/IMG/center_2018_...   \n",
       "2  /Users/jaydenmilton/Documents/IMG/center_2018_...   \n",
       "3  /Users/jaydenmilton/Documents/IMG/center_2018_...   \n",
       "4  /Users/jaydenmilton/Documents/IMG/center_2018_...   \n",
       "\n",
       "                                                left  \\\n",
       "0  /Users/jaydenmilton/Documents/IMG/left_2018_04...   \n",
       "1  /Users/jaydenmilton/Documents/IMG/left_2018_04...   \n",
       "2  /Users/jaydenmilton/Documents/IMG/left_2018_04...   \n",
       "3  /Users/jaydenmilton/Documents/IMG/left_2018_04...   \n",
       "4  /Users/jaydenmilton/Documents/IMG/left_2018_04...   \n",
       "\n",
       "                                               right  steering  throttle  \\\n",
       "0  /Users/jaydenmilton/Documents/IMG/right_2018_0...      0.00  0.000000   \n",
       "1  /Users/jaydenmilton/Documents/IMG/right_2018_0...      0.00  0.000000   \n",
       "2  /Users/jaydenmilton/Documents/IMG/right_2018_0...      0.00  0.000000   \n",
       "3  /Users/jaydenmilton/Documents/IMG/right_2018_0...      0.00  0.000000   \n",
       "4  /Users/jaydenmilton/Documents/IMG/right_2018_0...     -0.35  0.417969   \n",
       "\n",
       "   brake     speed  \n",
       "0      0  0.840298  \n",
       "1      0  0.828530  \n",
       "2      0  0.816926  \n",
       "3      0  0.803865  \n",
       "4      0  1.473115  "
      ]
     },
     "execution_count": 26,
     "metadata": {},
     "output_type": "execute_result"
    }
   ],
   "source": [
    "import csv\n",
    "column_names = ['center', 'left', 'right',\n",
    "                'steering', 'throttle', 'brake', 'speed']\n",
    "df = pd.read_csv('./data/driving_log.csv',names=column_names) \n",
    "df.head()"
   ]
  },
  {
   "cell_type": "code",
   "execution_count": 16,
   "metadata": {},
   "outputs": [
    {
     "data": {
      "text/plain": [
       "(6853, 7)"
      ]
     },
     "execution_count": 16,
     "metadata": {},
     "output_type": "execute_result"
    }
   ],
   "source": [
    "df.shape"
   ]
  },
  {
   "cell_type": "code",
   "execution_count": 17,
   "metadata": {},
   "outputs": [
    {
     "data": {
      "text/plain": [
       "<matplotlib.axes._subplots.AxesSubplot at 0x12babee48>"
      ]
     },
     "execution_count": 17,
     "metadata": {},
     "output_type": "execute_result"
    },
    {
     "data": {
      "image/png": "[encoded data removed]",
      "text/plain": [
       "<Figure size 432x288 with 1 Axes>"
      ]
     },
     "metadata": {},
     "output_type": "display_data"
    }
   ],
   "source": [
    "df.steering.plot.hist()"
   ]
  },
  {
   "cell_type": "code",
   "execution_count": 18,
   "metadata": {},
   "outputs": [
    {
     "data": {
      "text/plain": [
       "count    6853.000000\n",
       "mean       -0.036254\n",
       "std         0.192461\n",
       "min        -1.000000\n",
       "25%         0.000000\n",
       "50%         0.000000\n",
       "75%         0.000000\n",
       "max         1.000000\n",
       "Name: steering, dtype: float64"
      ]
     },
     "execution_count": 18,
     "metadata": {},
     "output_type": "execute_result"
    }
   ],
   "source": [
    "df.steering.describe()"
   ]
  },
  {
   "cell_type": "code",
   "execution_count": 19,
   "metadata": {},
   "outputs": [
    {
     "data": {
      "text/plain": [
       "0    6853\n",
       "Name: brake, dtype: int64"
      ]
     },
     "execution_count": 19,
     "metadata": {},
     "output_type": "execute_result"
    }
   ],
   "source": [
    "df.brake.value_counts()"
   ]
  },
  {
   "cell_type": "code",
   "execution_count": 20,
   "metadata": {},
   "outputs": [
    {
     "data": {
      "text/plain": [
       "<matplotlib.axes._subplots.AxesSubplot at 0x12baaf1d0>"
      ]
     },
     "execution_count": 20,
     "metadata": {},
     "output_type": "execute_result"
    },
    {
     "data": {
      "image/png": "[encoded data removed]",
      "text/plain": [
       "<Figure size 432x288 with 1 Axes>"
      ]
     },
     "metadata": {},
     "output_type": "display_data"
    }
   ],
   "source": [
    "df.query('steering != 0')['steering'].plot.hist(bins=25)"
   ]
  },
  {
   "cell_type": "code",
   "execution_count": 21,
   "metadata": {},
   "outputs": [],
   "source": [
    "from pathlib import PurePosixPath\n",
    "import cv2\n",
    "import os\n",
    "from datetime import datetime\n",
    "import matplotlib.gridspec as gridspec"
   ]
  },
  {
   "cell_type": "code",
   "execution_count": 29,
   "metadata": {},
   "outputs": [],
   "source": [
    "lines = df.values\n",
    "images = []\n",
    "measurements = []\n",
    "#for each driving data\n",
    "for line in lines:\n",
    "    steering_center = float(line[3])\n",
    "    # create adjusted steering measurements for the side camera images\n",
    "    correction = 0.6 # this is a parameter to tune\n",
    "    steering_left = steering_center + correction\n",
    "    steering_right = steering_center - correction\n",
    "\n",
    "    # read in images from center, left and right cameras\n",
    "    path = \"./data/IMG/\" # fill in the path to your training IMG directory\n",
    "    img_center = cv2.imread(path + line[0].split('/')[-1])\n",
    "    img_left = cv2.imread(path + line[1].split('/')[-1])\n",
    "    img_right = cv2.imread(path + line[2].split('/')[-1])\n",
    "\n",
    "    # add images and angles to data set\n",
    "    images.extend([img_center, img_left, img_right])\n",
    "    measurements.extend([steering_center, steering_left, steering_right])\n",
    "    source_path = line[0]\n",
    "    filename = source_path.split('/')[-1]\n",
    "    current_path = './data/IMG/'+filename\n",
    "    image = cv2.imread(current_path)\n",
    "    images.append(image)\n",
    "    measurement = float(line[3]) \n",
    "    measurements.append(measurement)"
   ]
  },
  {
   "cell_type": "code",
   "execution_count": 30,
   "metadata": {},
   "outputs": [
    {
     "ename": "SyntaxError",
     "evalue": "invalid syntax (<ipython-input-30-0530ed634df3>, line 2)",
     "output_type": "error",
     "traceback": [
      "\u001b[0;36m  File \u001b[0;32m\"<ipython-input-30-0530ed634df3>\"\u001b[0;36m, line \u001b[0;32m2\u001b[0m\n\u001b[0;31m    figfig  ==  pltplt..figurefigure()()\u001b[0m\n\u001b[0m                       ^\u001b[0m\n\u001b[0;31mSyntaxError\u001b[0m\u001b[0;31m:\u001b[0m invalid syntax\n"
     ]
    }
   ],
   "source": [
    "\n",
    "figfig  ==  pltplt..figurefigure()()\n",
    " # Center Image# Cente \n",
    "ax1 = fig.add_subplot(3,1,1)\n",
    "#ax1.title(\"Center Image\")\n",
    "ax1.axis('off')\n",
    "ax1.imshow(images[0])\n",
    "\n",
    "# Left Image\n",
    "ax2 = fig.add_subplot(3,1,2)\n",
    "#ax2.title(\"Left Image\")\n",
    "ax2.axis('off')\n",
    "ax2.imshow(images[1])\n",
    "\n",
    "# Right Image\n",
    "ax3 = fig.add_subplot(3,1,3)\n",
    "#ax3.title(\"Right Image\")\n",
    "ax3.axis('off')\n",
    "ax3.imshow(images[2])"
   ]
  },
  {
   "cell_type": "code",
   "execution_count": null,
   "metadata": {},
   "outputs": [],
   "source": [
    "path = '/Users/jaydenmilton/Documents/Self-Driving-Car-Engineer-Nanodegree-Program/CarND-Behavioral-Cloning-P3/data'\n",
    "center_camera_files=image_files(path+'/IMG/')\n",
    "left_camera_files=image_files(path+'/IMG/',camera='left')\n",
    "right_camera_files=image_files(path+'/IMG/',camera='right')"
   ]
  },
  {
   "cell_type": "code",
   "execution_count": 24,
   "metadata": {},
   "outputs": [
    {
     "name": "stdout",
     "output_type": "stream",
     "text": [
      "4966 4966 4966\n"
     ]
    }
   ],
   "source": [
    "print(len(left_camera_files),len(center_camera_files),len(right_camera_files))"
   ]
  },
  {
   "cell_type": "code",
   "execution_count": 25,
   "metadata": {},
   "outputs": [],
   "source": [
    "def plot_images_from_row(row, image_preprocess=lambda x: x):\n",
    "    f, (ax1, ax2, ax3) = plt.subplots(1,3, figsize=(10, 5))\n",
    "    image = plt.imread(path+ row['left'].strip())\n",
    "    ax1.imshow(idf(image))\n",
    "    ax1.grid(False)\n",
    "    \n",
    "    image = plt.imread(path+ row['center'])\n",
    "    ax2.imshow(df(image))\n",
    "    ax2.grid(False)\n",
    "    image = plt.imread(path+ row['right'].strip())\n",
    "    ax3.imshow(df(image))\n",
    "    ax3.grid(False)"
   ]
  },
  {
   "cell_type": "code",
   "execution_count": 13,
   "metadata": {},
   "outputs": [
    {
     "ename": "FileNotFoundError",
     "evalue": "[Errno 2] No such file or directory: '/Users/jaydenmilton/Documents/Self-Driving-Car-Engineer-Nanodegree-Program/CarND-Behavioral-Cloning-P3/data/Users/jaydenmilton/Documents/IMG/left_2018_04_26_19_06_59_225.jpg'",
     "output_type": "error",
     "traceback": [
      "\u001b[0;31m---------------------------------------------------------------------------\u001b[0m",
      "\u001b[0;31mFileNotFoundError\u001b[0m                         Traceback (most recent call last)",
      "\u001b[0;32m<ipython-input-13-6170ac7c3f36>\u001b[0m in \u001b[0;36m<module>\u001b[0;34m()\u001b[0m\n\u001b[1;32m      1\u001b[0m \u001b[0mno_turn\u001b[0m \u001b[0;34m=\u001b[0m \u001b[0mdf\u001b[0m\u001b[0;34m[\u001b[0m\u001b[0mdf\u001b[0m\u001b[0;34m[\u001b[0m\u001b[0;34m'steering'\u001b[0m\u001b[0;34m]\u001b[0m \u001b[0;34m==\u001b[0m \u001b[0;36m0.0\u001b[0m \u001b[0;34m]\u001b[0m\u001b[0;34m.\u001b[0m\u001b[0miloc\u001b[0m\u001b[0;34m[\u001b[0m\u001b[0;36m0\u001b[0m\u001b[0;34m]\u001b[0m\u001b[0;34m\u001b[0m\u001b[0m\n\u001b[0;32m----> 2\u001b[0;31m \u001b[0mplot_images_from_row\u001b[0m\u001b[0;34m(\u001b[0m\u001b[0mno_turn\u001b[0m\u001b[0;34m)\u001b[0m\u001b[0;34m\u001b[0m\u001b[0m\n\u001b[0m",
      "\u001b[0;32m<ipython-input-12-eaf120aafeda>\u001b[0m in \u001b[0;36mplot_images_from_row\u001b[0;34m(row, image_preprocess)\u001b[0m\n\u001b[1;32m      1\u001b[0m \u001b[0;32mdef\u001b[0m \u001b[0mplot_images_from_row\u001b[0m\u001b[0;34m(\u001b[0m\u001b[0mrow\u001b[0m\u001b[0;34m,\u001b[0m \u001b[0mimage_preprocess\u001b[0m\u001b[0;34m=\u001b[0m\u001b[0;32mlambda\u001b[0m \u001b[0mx\u001b[0m\u001b[0;34m:\u001b[0m \u001b[0mx\u001b[0m\u001b[0;34m)\u001b[0m\u001b[0;34m:\u001b[0m\u001b[0;34m\u001b[0m\u001b[0m\n\u001b[1;32m      2\u001b[0m     \u001b[0mf\u001b[0m\u001b[0;34m,\u001b[0m \u001b[0;34m(\u001b[0m\u001b[0max1\u001b[0m\u001b[0;34m,\u001b[0m \u001b[0max2\u001b[0m\u001b[0;34m,\u001b[0m \u001b[0max3\u001b[0m\u001b[0;34m)\u001b[0m \u001b[0;34m=\u001b[0m \u001b[0mplt\u001b[0m\u001b[0;34m.\u001b[0m\u001b[0msubplots\u001b[0m\u001b[0;34m(\u001b[0m\u001b[0;36m1\u001b[0m\u001b[0;34m,\u001b[0m\u001b[0;36m3\u001b[0m\u001b[0;34m,\u001b[0m \u001b[0mfigsize\u001b[0m\u001b[0;34m=\u001b[0m\u001b[0;34m(\u001b[0m\u001b[0;36m10\u001b[0m\u001b[0;34m,\u001b[0m \u001b[0;36m5\u001b[0m\u001b[0;34m)\u001b[0m\u001b[0;34m)\u001b[0m\u001b[0;34m\u001b[0m\u001b[0m\n\u001b[0;32m----> 3\u001b[0;31m     \u001b[0mimage\u001b[0m \u001b[0;34m=\u001b[0m \u001b[0mplt\u001b[0m\u001b[0;34m.\u001b[0m\u001b[0mimread\u001b[0m\u001b[0;34m(\u001b[0m\u001b[0mpath\u001b[0m\u001b[0;34m+\u001b[0m \u001b[0mrow\u001b[0m\u001b[0;34m[\u001b[0m\u001b[0;34m'left'\u001b[0m\u001b[0;34m]\u001b[0m\u001b[0;34m.\u001b[0m\u001b[0mstrip\u001b[0m\u001b[0;34m(\u001b[0m\u001b[0;34m)\u001b[0m\u001b[0;34m)\u001b[0m\u001b[0;34m\u001b[0m\u001b[0m\n\u001b[0m\u001b[1;32m      4\u001b[0m     \u001b[0max1\u001b[0m\u001b[0;34m.\u001b[0m\u001b[0mimshow\u001b[0m\u001b[0;34m(\u001b[0m\u001b[0midf\u001b[0m\u001b[0;34m(\u001b[0m\u001b[0mimage\u001b[0m\u001b[0;34m)\u001b[0m\u001b[0;34m)\u001b[0m\u001b[0;34m\u001b[0m\u001b[0m\n\u001b[1;32m      5\u001b[0m     \u001b[0max1\u001b[0m\u001b[0;34m.\u001b[0m\u001b[0mgrid\u001b[0m\u001b[0;34m(\u001b[0m\u001b[0;32mFalse\u001b[0m\u001b[0;34m)\u001b[0m\u001b[0;34m\u001b[0m\u001b[0m\n",
      "\u001b[0;32m~/miniconda3/envs/carnd-term1/lib/python3.5/site-packages/matplotlib/pyplot.py\u001b[0m in \u001b[0;36mimread\u001b[0;34m(*args, **kwargs)\u001b[0m\n\u001b[1;32m   2379\u001b[0m \u001b[0;34m@\u001b[0m\u001b[0mdocstring\u001b[0m\u001b[0;34m.\u001b[0m\u001b[0mcopy_dedent\u001b[0m\u001b[0;34m(\u001b[0m\u001b[0m_imread\u001b[0m\u001b[0;34m)\u001b[0m\u001b[0;34m\u001b[0m\u001b[0m\n\u001b[1;32m   2380\u001b[0m \u001b[0;32mdef\u001b[0m \u001b[0mimread\u001b[0m\u001b[0;34m(\u001b[0m\u001b[0;34m*\u001b[0m\u001b[0margs\u001b[0m\u001b[0;34m,\u001b[0m \u001b[0;34m**\u001b[0m\u001b[0mkwargs\u001b[0m\u001b[0;34m)\u001b[0m\u001b[0;34m:\u001b[0m\u001b[0;34m\u001b[0m\u001b[0m\n\u001b[0;32m-> 2381\u001b[0;31m     \u001b[0;32mreturn\u001b[0m \u001b[0m_imread\u001b[0m\u001b[0;34m(\u001b[0m\u001b[0;34m*\u001b[0m\u001b[0margs\u001b[0m\u001b[0;34m,\u001b[0m \u001b[0;34m**\u001b[0m\u001b[0mkwargs\u001b[0m\u001b[0;34m)\u001b[0m\u001b[0;34m\u001b[0m\u001b[0m\n\u001b[0m\u001b[1;32m   2382\u001b[0m \u001b[0;34m\u001b[0m\u001b[0m\n\u001b[1;32m   2383\u001b[0m \u001b[0;34m\u001b[0m\u001b[0m\n",
      "\u001b[0;32m~/miniconda3/envs/carnd-term1/lib/python3.5/site-packages/matplotlib/image.py\u001b[0m in \u001b[0;36mimread\u001b[0;34m(fname, format)\u001b[0m\n\u001b[1;32m   1354\u001b[0m \u001b[0;34m\u001b[0m\u001b[0m\n\u001b[1;32m   1355\u001b[0m     \u001b[0;32mif\u001b[0m \u001b[0mext\u001b[0m \u001b[0;32mnot\u001b[0m \u001b[0;32min\u001b[0m \u001b[0mhandlers\u001b[0m\u001b[0;34m:\u001b[0m\u001b[0;34m\u001b[0m\u001b[0m\n\u001b[0;32m-> 1356\u001b[0;31m         \u001b[0mim\u001b[0m \u001b[0;34m=\u001b[0m \u001b[0mpilread\u001b[0m\u001b[0;34m(\u001b[0m\u001b[0mfname\u001b[0m\u001b[0;34m)\u001b[0m\u001b[0;34m\u001b[0m\u001b[0m\n\u001b[0m\u001b[1;32m   1357\u001b[0m         \u001b[0;32mif\u001b[0m \u001b[0mim\u001b[0m \u001b[0;32mis\u001b[0m \u001b[0;32mNone\u001b[0m\u001b[0;34m:\u001b[0m\u001b[0;34m\u001b[0m\u001b[0m\n\u001b[1;32m   1358\u001b[0m             raise ValueError('Only know how to handle extensions: %s; '\n",
      "\u001b[0;32m~/miniconda3/envs/carnd-term1/lib/python3.5/site-packages/matplotlib/image.py\u001b[0m in \u001b[0;36mpilread\u001b[0;34m(fname)\u001b[0m\n\u001b[1;32m   1332\u001b[0m         \u001b[0;32mexcept\u001b[0m \u001b[0mImportError\u001b[0m\u001b[0;34m:\u001b[0m\u001b[0;34m\u001b[0m\u001b[0m\n\u001b[1;32m   1333\u001b[0m             \u001b[0;32mreturn\u001b[0m \u001b[0;32mNone\u001b[0m\u001b[0;34m\u001b[0m\u001b[0m\n\u001b[0;32m-> 1334\u001b[0;31m         \u001b[0;32mwith\u001b[0m \u001b[0mImage\u001b[0m\u001b[0;34m.\u001b[0m\u001b[0mopen\u001b[0m\u001b[0;34m(\u001b[0m\u001b[0mfname\u001b[0m\u001b[0;34m)\u001b[0m \u001b[0;32mas\u001b[0m \u001b[0mimage\u001b[0m\u001b[0;34m:\u001b[0m\u001b[0;34m\u001b[0m\u001b[0m\n\u001b[0m\u001b[1;32m   1335\u001b[0m             \u001b[0;32mreturn\u001b[0m \u001b[0mpil_to_array\u001b[0m\u001b[0;34m(\u001b[0m\u001b[0mimage\u001b[0m\u001b[0;34m)\u001b[0m\u001b[0;34m\u001b[0m\u001b[0m\n\u001b[1;32m   1336\u001b[0m \u001b[0;34m\u001b[0m\u001b[0m\n",
      "\u001b[0;32m~/miniconda3/envs/carnd-term1/lib/python3.5/site-packages/PIL/Image.py\u001b[0m in \u001b[0;36mopen\u001b[0;34m(fp, mode)\u001b[0m\n\u001b[1;32m   2541\u001b[0m \u001b[0;34m\u001b[0m\u001b[0m\n\u001b[1;32m   2542\u001b[0m     \u001b[0;32mif\u001b[0m \u001b[0mfilename\u001b[0m\u001b[0;34m:\u001b[0m\u001b[0;34m\u001b[0m\u001b[0m\n\u001b[0;32m-> 2543\u001b[0;31m         \u001b[0mfp\u001b[0m \u001b[0;34m=\u001b[0m \u001b[0mbuiltins\u001b[0m\u001b[0;34m.\u001b[0m\u001b[0mopen\u001b[0m\u001b[0;34m(\u001b[0m\u001b[0mfilename\u001b[0m\u001b[0;34m,\u001b[0m \u001b[0;34m\"rb\"\u001b[0m\u001b[0;34m)\u001b[0m\u001b[0;34m\u001b[0m\u001b[0m\n\u001b[0m\u001b[1;32m   2544\u001b[0m         \u001b[0mexclusive_fp\u001b[0m \u001b[0;34m=\u001b[0m \u001b[0;32mTrue\u001b[0m\u001b[0;34m\u001b[0m\u001b[0m\n\u001b[1;32m   2545\u001b[0m \u001b[0;34m\u001b[0m\u001b[0m\n",
      "\u001b[0;31mFileNotFoundError\u001b[0m: [Errno 2] No such file or directory: '/Users/jaydenmilton/Documents/Self-Driving-Car-Engineer-Nanodegree-Program/CarND-Behavioral-Cloning-P3/data/Users/jaydenmilton/Documents/IMG/left_2018_04_26_19_06_59_225.jpg'"
     ]
    },
    {
     "data": {
      "image/png": "[encoded data removed]",
      "text/plain": [
       "<Figure size 720x360 with 3 Axes>"
      ]
     },
     "metadata": {},
     "output_type": "display_data"
    }
   ],
   "source": [
    "no_turn = df[df['steering'] == 0.0 ].iloc[0]\n",
    "plot_images_from_row(no_turn)"
   ]
  },
  {
   "cell_type": "code",
   "execution_count": 33,
   "metadata": {},
   "outputs": [],
   "source": [
    "from  moviepy.editor import *\n",
    "from IPython.display import HTML"
   ]
  },
  {
   "cell_type": "code",
   "execution_count": 34,
   "metadata": {},
   "outputs": [],
   "source": [
    "def create_movie_from_log(log_path,log_file='driving_log.csv',skiprows=1,clip_name='log_clip.mp4', sample_every=1):\n",
    "    column_names = ['center', 'left', 'right',\n",
    "                    'steering', 'throttle', 'brake', 'speed']\n",
    "    data_df = pd.read_csv(log_path+'/'+log_file,\n",
    "                          names=column_names, skiprows=skiprows)\n",
    "    \n",
    "    clip_data=[load_and_draw(data_df, log_path, idx) for idx in data_df.index if not idx % sample_every]\n",
    "    clip = ImageSequenceClip(clip_data, fps=50)\n",
    "    %time clip.write_videofile(clip_name, audio=False)"
   ]
  },
  {
   "cell_type": "code",
   "execution_count": 35,
   "metadata": {},
   "outputs": [
    {
     "ename": "NameError",
     "evalue": "name 'clip_name' is not defined",
     "output_type": "error",
     "traceback": [
      "\u001b[0;31m---------------------------------------------------------------------------\u001b[0m",
      "\u001b[0;31mNameError\u001b[0m                                 Traceback (most recent call last)",
      "\u001b[0;32m<ipython-input-35-8014b80ef5b8>\u001b[0m in \u001b[0;36m<module>\u001b[0;34m()\u001b[0m\n\u001b[1;32m      1\u001b[0m \u001b[0;34m\u001b[0m\u001b[0m\n\u001b[1;32m      2\u001b[0m \u001b[0mclip_nameclip_nam\u001b[0m \u001b[0;34m=\u001b[0m\u001b[0;34m'udacity_sample.mp4'\u001b[0m\u001b[0;34m\u001b[0m\u001b[0m\n\u001b[0;32m----> 3\u001b[0;31m \u001b[0mcreate_movie_from_log\u001b[0m\u001b[0;34m(\u001b[0m\u001b[0;34m'/u200/Udacity/behavioral-cloning-project/data'\u001b[0m\u001b[0;34m,\u001b[0m\u001b[0mskiprows\u001b[0m\u001b[0;34m=\u001b[0m\u001b[0;36m1\u001b[0m\u001b[0;34m,\u001b[0m\u001b[0mclip_name\u001b[0m\u001b[0;34m=\u001b[0m\u001b[0mclip_name\u001b[0m\u001b[0;34m,\u001b[0m\u001b[0msample_every\u001b[0m\u001b[0;34m=\u001b[0m\u001b[0;36m1\u001b[0m\u001b[0;34m)\u001b[0m\u001b[0;34m\u001b[0m\u001b[0m\n\u001b[0m",
      "\u001b[0;31mNameError\u001b[0m: name 'clip_name' is not defined"
     ]
    }
   ],
   "source": [
    "\n",
    "clip_nameclip_nam ='udacity_sample.mp4'\n",
    "create_movie_from_log('/u200/Udacity/behavioral-cloning-project/data',skiprows=1,clip_name=clip_name,sample_every=1)"
   ]
  },
  {
   "cell_type": "code",
   "execution_count": 36,
   "metadata": {},
   "outputs": [
    {
     "name": "stdout",
     "output_type": "stream",
     "text": [
      "=4.1.0                    \u001b[34mdata\u001b[m\u001b[m/                     model.py.ipynb\r\n",
      "\u001b[34mCarND-Behavioral-Cloning\u001b[m\u001b[m/ drive.py                  \u001b[34mrun1\u001b[m\u001b[m/\r\n",
      "Exploration.ipynb         \u001b[34mexamples\u001b[m\u001b[m/                 steering1.png\r\n",
      "LICENSE                   model.h5                  video.py\r\n",
      "README.md                 model.json                writeup_template.md\r\n"
     ]
    }
   ],
   "source": [
    "ls"
   ]
  },
  {
   "cell_type": "code",
   "execution_count": 4,
   "metadata": {},
   "outputs": [],
   "source": [
    "X_train = np.array(images)\n",
    "y_train = np.array(measurements)"
   ]
  },
  {
   "cell_type": "code",
   "execution_count": 5,
   "metadata": {},
   "outputs": [],
   "source": [
    "# Helper functions\n",
    "import random\n",
    "import matplotlib.pyplot as plt\n",
    "# Visualizations will be shown in the notebook.\n",
    "%matplotlib inline\n",
    "\n",
    "def show_images(images, labels, rows=4, cols=5, figsize=(20,10), gray=False):\n",
    "    images_to_show = len(images)\n",
    "    fig, axis = plt.subplots(rows, cols, figsize=figsize)\n",
    "    fig.subplots_adjust(hspace = .5, wspace=.001)\n",
    "    axis = axis.ravel()\n",
    "    for i in range(images_to_show):\n",
    "        image = images[i]\n",
    "        axis[i].axis('off')\n",
    "        if (gray):\n",
    "            axis[i].imshow(image.squeeze(), cmap='gray')\n",
    "        else:\n",
    "            axis[i].imshow(image)\n",
    "        axis[i].set_title(labels[i])\n",
    "\n",
    "def show_random_image(X,y,rows=4, cols=5, figsize=(20,10),gray=False):\n",
    "    # show images of random data points\n",
    "    images_to_show = 4\n",
    "    images = []\n",
    "    labels =[]\n",
    "    for i in range(images_to_show):\n",
    "        index = random.randint(0, len(X))\n",
    "        images.append(X[index])\n",
    "        labels.append(y[index])\n",
    "\n",
    "    show_images(images,labels,rows,cols,figsize,gray)"
   ]
  },
  {
   "cell_type": "code",
   "execution_count": 6,
   "metadata": {},
   "outputs": [
    {
     "ename": "TypeError",
     "evalue": "Image data cannot be converted to float",
     "output_type": "error",
     "traceback": [
      "\u001b[0;31m---------------------------------------------------------------------------\u001b[0m",
      "\u001b[0;31mTypeError\u001b[0m                                 Traceback (most recent call last)",
      "\u001b[0;32m<ipython-input-6-883752aa14f2>\u001b[0m in \u001b[0;36m<module>\u001b[0;34m()\u001b[0m\n\u001b[0;32m----> 1\u001b[0;31m \u001b[0mshow_random_image\u001b[0m\u001b[0;34m(\u001b[0m\u001b[0mX_train\u001b[0m\u001b[0;34m,\u001b[0m \u001b[0my_train\u001b[0m\u001b[0;34m,\u001b[0m \u001b[0;36m2\u001b[0m\u001b[0;34m,\u001b[0m \u001b[0;36m2\u001b[0m\u001b[0;34m,\u001b[0m \u001b[0;34m(\u001b[0m\u001b[0;36m18\u001b[0m\u001b[0;34m,\u001b[0m\u001b[0;36m8\u001b[0m\u001b[0;34m)\u001b[0m\u001b[0;34m)\u001b[0m\u001b[0;34m\u001b[0m\u001b[0m\n\u001b[0m",
      "\u001b[0;32m<ipython-input-5-8b7a5bceae86>\u001b[0m in \u001b[0;36mshow_random_image\u001b[0;34m(X, y, rows, cols, figsize, gray)\u001b[0m\n\u001b[1;32m     29\u001b[0m         \u001b[0mlabels\u001b[0m\u001b[0;34m.\u001b[0m\u001b[0mappend\u001b[0m\u001b[0;34m(\u001b[0m\u001b[0my\u001b[0m\u001b[0;34m[\u001b[0m\u001b[0mindex\u001b[0m\u001b[0;34m]\u001b[0m\u001b[0;34m)\u001b[0m\u001b[0;34m\u001b[0m\u001b[0m\n\u001b[1;32m     30\u001b[0m \u001b[0;34m\u001b[0m\u001b[0m\n\u001b[0;32m---> 31\u001b[0;31m     \u001b[0mshow_images\u001b[0m\u001b[0;34m(\u001b[0m\u001b[0mimages\u001b[0m\u001b[0;34m,\u001b[0m\u001b[0mlabels\u001b[0m\u001b[0;34m,\u001b[0m\u001b[0mrows\u001b[0m\u001b[0;34m,\u001b[0m\u001b[0mcols\u001b[0m\u001b[0;34m,\u001b[0m\u001b[0mfigsize\u001b[0m\u001b[0;34m,\u001b[0m\u001b[0mgray\u001b[0m\u001b[0;34m)\u001b[0m\u001b[0;34m\u001b[0m\u001b[0m\n\u001b[0m",
      "\u001b[0;32m<ipython-input-5-8b7a5bceae86>\u001b[0m in \u001b[0;36mshow_images\u001b[0;34m(images, labels, rows, cols, figsize, gray)\u001b[0m\n\u001b[1;32m     16\u001b[0m             \u001b[0maxis\u001b[0m\u001b[0;34m[\u001b[0m\u001b[0mi\u001b[0m\u001b[0;34m]\u001b[0m\u001b[0;34m.\u001b[0m\u001b[0mimshow\u001b[0m\u001b[0;34m(\u001b[0m\u001b[0mimage\u001b[0m\u001b[0;34m.\u001b[0m\u001b[0msqueeze\u001b[0m\u001b[0;34m(\u001b[0m\u001b[0;34m)\u001b[0m\u001b[0;34m,\u001b[0m \u001b[0mcmap\u001b[0m\u001b[0;34m=\u001b[0m\u001b[0;34m'gray'\u001b[0m\u001b[0;34m)\u001b[0m\u001b[0;34m\u001b[0m\u001b[0m\n\u001b[1;32m     17\u001b[0m         \u001b[0;32melse\u001b[0m\u001b[0;34m:\u001b[0m\u001b[0;34m\u001b[0m\u001b[0m\n\u001b[0;32m---> 18\u001b[0;31m             \u001b[0maxis\u001b[0m\u001b[0;34m[\u001b[0m\u001b[0mi\u001b[0m\u001b[0;34m]\u001b[0m\u001b[0;34m.\u001b[0m\u001b[0mimshow\u001b[0m\u001b[0;34m(\u001b[0m\u001b[0mimage\u001b[0m\u001b[0;34m)\u001b[0m\u001b[0;34m\u001b[0m\u001b[0m\n\u001b[0m\u001b[1;32m     19\u001b[0m         \u001b[0maxis\u001b[0m\u001b[0;34m[\u001b[0m\u001b[0mi\u001b[0m\u001b[0;34m]\u001b[0m\u001b[0;34m.\u001b[0m\u001b[0mset_title\u001b[0m\u001b[0;34m(\u001b[0m\u001b[0mlabels\u001b[0m\u001b[0;34m[\u001b[0m\u001b[0mi\u001b[0m\u001b[0;34m]\u001b[0m\u001b[0;34m)\u001b[0m\u001b[0;34m\u001b[0m\u001b[0m\n\u001b[1;32m     20\u001b[0m \u001b[0;34m\u001b[0m\u001b[0m\n",
      "\u001b[0;32m~/miniconda3/envs/carnd-term1/lib/python3.5/site-packages/matplotlib/__init__.py\u001b[0m in \u001b[0;36minner\u001b[0;34m(ax, *args, **kwargs)\u001b[0m\n\u001b[1;32m   1853\u001b[0m                         \u001b[0;34m\"the Matplotlib list!)\"\u001b[0m \u001b[0;34m%\u001b[0m \u001b[0;34m(\u001b[0m\u001b[0mlabel_namer\u001b[0m\u001b[0;34m,\u001b[0m \u001b[0mfunc\u001b[0m\u001b[0;34m.\u001b[0m\u001b[0m__name__\u001b[0m\u001b[0;34m)\u001b[0m\u001b[0;34m,\u001b[0m\u001b[0;34m\u001b[0m\u001b[0m\n\u001b[1;32m   1854\u001b[0m                         RuntimeWarning, stacklevel=2)\n\u001b[0;32m-> 1855\u001b[0;31m             \u001b[0;32mreturn\u001b[0m \u001b[0mfunc\u001b[0m\u001b[0;34m(\u001b[0m\u001b[0max\u001b[0m\u001b[0;34m,\u001b[0m \u001b[0;34m*\u001b[0m\u001b[0margs\u001b[0m\u001b[0;34m,\u001b[0m \u001b[0;34m**\u001b[0m\u001b[0mkwargs\u001b[0m\u001b[0;34m)\u001b[0m\u001b[0;34m\u001b[0m\u001b[0m\n\u001b[0m\u001b[1;32m   1856\u001b[0m \u001b[0;34m\u001b[0m\u001b[0m\n\u001b[1;32m   1857\u001b[0m         inner.__doc__ = _add_data_doc(inner.__doc__,\n",
      "\u001b[0;32m~/miniconda3/envs/carnd-term1/lib/python3.5/site-packages/matplotlib/axes/_axes.py\u001b[0m in \u001b[0;36mimshow\u001b[0;34m(self, X, cmap, norm, aspect, interpolation, alpha, vmin, vmax, origin, extent, shape, filternorm, filterrad, imlim, resample, url, **kwargs)\u001b[0m\n\u001b[1;32m   5485\u001b[0m                               resample=resample, **kwargs)\n\u001b[1;32m   5486\u001b[0m \u001b[0;34m\u001b[0m\u001b[0m\n\u001b[0;32m-> 5487\u001b[0;31m         \u001b[0mim\u001b[0m\u001b[0;34m.\u001b[0m\u001b[0mset_data\u001b[0m\u001b[0;34m(\u001b[0m\u001b[0mX\u001b[0m\u001b[0;34m)\u001b[0m\u001b[0;34m\u001b[0m\u001b[0m\n\u001b[0m\u001b[1;32m   5488\u001b[0m         \u001b[0mim\u001b[0m\u001b[0;34m.\u001b[0m\u001b[0mset_alpha\u001b[0m\u001b[0;34m(\u001b[0m\u001b[0malpha\u001b[0m\u001b[0;34m)\u001b[0m\u001b[0;34m\u001b[0m\u001b[0m\n\u001b[1;32m   5489\u001b[0m         \u001b[0;32mif\u001b[0m \u001b[0mim\u001b[0m\u001b[0;34m.\u001b[0m\u001b[0mget_clip_path\u001b[0m\u001b[0;34m(\u001b[0m\u001b[0;34m)\u001b[0m \u001b[0;32mis\u001b[0m \u001b[0;32mNone\u001b[0m\u001b[0;34m:\u001b[0m\u001b[0;34m\u001b[0m\u001b[0m\n",
      "\u001b[0;32m~/miniconda3/envs/carnd-term1/lib/python3.5/site-packages/matplotlib/image.py\u001b[0m in \u001b[0;36mset_data\u001b[0;34m(self, A)\u001b[0m\n\u001b[1;32m    647\u001b[0m         if (self._A.dtype != np.uint8 and\n\u001b[1;32m    648\u001b[0m                 not np.can_cast(self._A.dtype, float, \"same_kind\")):\n\u001b[0;32m--> 649\u001b[0;31m             \u001b[0;32mraise\u001b[0m \u001b[0mTypeError\u001b[0m\u001b[0;34m(\u001b[0m\u001b[0;34m\"Image data cannot be converted to float\"\u001b[0m\u001b[0;34m)\u001b[0m\u001b[0;34m\u001b[0m\u001b[0m\n\u001b[0m\u001b[1;32m    650\u001b[0m \u001b[0;34m\u001b[0m\u001b[0m\n\u001b[1;32m    651\u001b[0m         if not (self._A.ndim == 2\n",
      "\u001b[0;31mTypeError\u001b[0m: Image data cannot be converted to float"
     ]
    },
    {
     "data": {
      "image/png": "[encoded data removed]",
      "text/plain": [
       "<Figure size 1296x576 with 4 Axes>"
      ]
     },
     "metadata": {},
     "output_type": "display_data"
    }
   ],
   "source": [
    "show_random_image(X_train, y_train, 2, 2, (18,8))"
   ]
  },
  {
   "cell_type": "code",
   "execution_count": null,
   "metadata": {},
   "outputs": [],
   "source": []
  },
  {
   "cell_type": "code",
   "execution_count": null,
   "metadata": {},
   "outputs": [],
   "source": []
  },
  {
   "cell_type": "code",
   "execution_count": 11,
   "metadata": {},
   "outputs": [
    {
     "name": "stderr",
     "output_type": "stream",
     "text": [
      "Using TensorFlow backend.\n"
     ]
    },
    {
     "ename": "ValueError",
     "evalue": "Error when checking model input: expected flatten_input_1 to have 4 dimensions, but got array with shape (0, 1)",
     "output_type": "error",
     "traceback": [
      "\u001b[0;31m---------------------------------------------------------------------------\u001b[0m",
      "\u001b[0;31mValueError\u001b[0m                                Traceback (most recent call last)",
      "\u001b[0;32m<ipython-input-11-d582ba81cb42>\u001b[0m in \u001b[0;36m<module>\u001b[0;34m()\u001b[0m\n\u001b[1;32m     40\u001b[0m \u001b[0;34m\u001b[0m\u001b[0m\n\u001b[1;32m     41\u001b[0m \u001b[0mmodel\u001b[0m\u001b[0;34m.\u001b[0m\u001b[0mcompile\u001b[0m\u001b[0;34m(\u001b[0m\u001b[0mloss\u001b[0m\u001b[0;34m=\u001b[0m\u001b[0;34m'mse'\u001b[0m\u001b[0;34m,\u001b[0m\u001b[0moptimizer\u001b[0m\u001b[0;34m=\u001b[0m\u001b[0;34m'adam'\u001b[0m\u001b[0;34m)\u001b[0m\u001b[0;34m\u001b[0m\u001b[0m\n\u001b[0;32m---> 42\u001b[0;31m \u001b[0mmodel\u001b[0m\u001b[0;34m.\u001b[0m\u001b[0mfit\u001b[0m\u001b[0;34m(\u001b[0m\u001b[0mX_train\u001b[0m\u001b[0;34m,\u001b[0m \u001b[0my_train\u001b[0m\u001b[0;34m,\u001b[0m \u001b[0mvalidation_split\u001b[0m\u001b[0;34m=\u001b[0m\u001b[0;36m0.2\u001b[0m\u001b[0;34m)\u001b[0m\u001b[0;34m\u001b[0m\u001b[0m\n\u001b[0m\u001b[1;32m     43\u001b[0m \u001b[0;34m\u001b[0m\u001b[0m\n\u001b[1;32m     44\u001b[0m \u001b[0mmodel\u001b[0m\u001b[0;34m.\u001b[0m\u001b[0msave\u001b[0m\u001b[0;34m(\u001b[0m\u001b[0;34m'model.h5'\u001b[0m\u001b[0;34m)\u001b[0m\u001b[0;34m\u001b[0m\u001b[0m\n",
      "\u001b[0;32m~/miniconda3/envs/carnd-term1/lib/python3.5/site-packages/keras/models.py\u001b[0m in \u001b[0;36mfit\u001b[0;34m(self, x, y, batch_size, nb_epoch, verbose, callbacks, validation_split, validation_data, shuffle, class_weight, sample_weight, initial_epoch, **kwargs)\u001b[0m\n\u001b[1;32m    670\u001b[0m                               \u001b[0mclass_weight\u001b[0m\u001b[0;34m=\u001b[0m\u001b[0mclass_weight\u001b[0m\u001b[0;34m,\u001b[0m\u001b[0;34m\u001b[0m\u001b[0m\n\u001b[1;32m    671\u001b[0m                               \u001b[0msample_weight\u001b[0m\u001b[0;34m=\u001b[0m\u001b[0msample_weight\u001b[0m\u001b[0;34m,\u001b[0m\u001b[0;34m\u001b[0m\u001b[0m\n\u001b[0;32m--> 672\u001b[0;31m                               initial_epoch=initial_epoch)\n\u001b[0m\u001b[1;32m    673\u001b[0m \u001b[0;34m\u001b[0m\u001b[0m\n\u001b[1;32m    674\u001b[0m     def evaluate(self, x, y, batch_size=32, verbose=1,\n",
      "\u001b[0;32m~/miniconda3/envs/carnd-term1/lib/python3.5/site-packages/keras/engine/training.py\u001b[0m in \u001b[0;36mfit\u001b[0;34m(self, x, y, batch_size, nb_epoch, verbose, callbacks, validation_split, validation_data, shuffle, class_weight, sample_weight, initial_epoch)\u001b[0m\n\u001b[1;32m   1115\u001b[0m             \u001b[0mclass_weight\u001b[0m\u001b[0;34m=\u001b[0m\u001b[0mclass_weight\u001b[0m\u001b[0;34m,\u001b[0m\u001b[0;34m\u001b[0m\u001b[0m\n\u001b[1;32m   1116\u001b[0m             \u001b[0mcheck_batch_axis\u001b[0m\u001b[0;34m=\u001b[0m\u001b[0;32mFalse\u001b[0m\u001b[0;34m,\u001b[0m\u001b[0;34m\u001b[0m\u001b[0m\n\u001b[0;32m-> 1117\u001b[0;31m             batch_size=batch_size)\n\u001b[0m\u001b[1;32m   1118\u001b[0m         \u001b[0;31m# prepare validation data\u001b[0m\u001b[0;34m\u001b[0m\u001b[0;34m\u001b[0m\u001b[0m\n\u001b[1;32m   1119\u001b[0m         \u001b[0;32mif\u001b[0m \u001b[0mvalidation_data\u001b[0m\u001b[0;34m:\u001b[0m\u001b[0;34m\u001b[0m\u001b[0m\n",
      "\u001b[0;32m~/miniconda3/envs/carnd-term1/lib/python3.5/site-packages/keras/engine/training.py\u001b[0m in \u001b[0;36m_standardize_user_data\u001b[0;34m(self, x, y, sample_weight, class_weight, check_batch_axis, batch_size)\u001b[0m\n\u001b[1;32m   1028\u001b[0m                                    \u001b[0mself\u001b[0m\u001b[0;34m.\u001b[0m\u001b[0minternal_input_shapes\u001b[0m\u001b[0;34m,\u001b[0m\u001b[0;34m\u001b[0m\u001b[0m\n\u001b[1;32m   1029\u001b[0m                                    \u001b[0mcheck_batch_axis\u001b[0m\u001b[0;34m=\u001b[0m\u001b[0;32mFalse\u001b[0m\u001b[0;34m,\u001b[0m\u001b[0;34m\u001b[0m\u001b[0m\n\u001b[0;32m-> 1030\u001b[0;31m                                    exception_prefix='model input')\n\u001b[0m\u001b[1;32m   1031\u001b[0m         y = standardize_input_data(y, self.output_names,\n\u001b[1;32m   1032\u001b[0m                                    \u001b[0moutput_shapes\u001b[0m\u001b[0;34m,\u001b[0m\u001b[0;34m\u001b[0m\u001b[0m\n",
      "\u001b[0;32m~/miniconda3/envs/carnd-term1/lib/python3.5/site-packages/keras/engine/training.py\u001b[0m in \u001b[0;36mstandardize_input_data\u001b[0;34m(data, names, shapes, check_batch_axis, exception_prefix)\u001b[0m\n\u001b[1;32m    110\u001b[0m                                  \u001b[0;34m' to have '\u001b[0m \u001b[0;34m+\u001b[0m \u001b[0mstr\u001b[0m\u001b[0;34m(\u001b[0m\u001b[0mlen\u001b[0m\u001b[0;34m(\u001b[0m\u001b[0mshapes\u001b[0m\u001b[0;34m[\u001b[0m\u001b[0mi\u001b[0m\u001b[0;34m]\u001b[0m\u001b[0;34m)\u001b[0m\u001b[0;34m)\u001b[0m \u001b[0;34m+\u001b[0m\u001b[0;34m\u001b[0m\u001b[0m\n\u001b[1;32m    111\u001b[0m                                  \u001b[0;34m' dimensions, but got array with shape '\u001b[0m \u001b[0;34m+\u001b[0m\u001b[0;34m\u001b[0m\u001b[0m\n\u001b[0;32m--> 112\u001b[0;31m                                  str(array.shape))\n\u001b[0m\u001b[1;32m    113\u001b[0m             \u001b[0;32mfor\u001b[0m \u001b[0mj\u001b[0m\u001b[0;34m,\u001b[0m \u001b[0;34m(\u001b[0m\u001b[0mdim\u001b[0m\u001b[0;34m,\u001b[0m \u001b[0mref_dim\u001b[0m\u001b[0;34m)\u001b[0m \u001b[0;32min\u001b[0m \u001b[0menumerate\u001b[0m\u001b[0;34m(\u001b[0m\u001b[0mzip\u001b[0m\u001b[0;34m(\u001b[0m\u001b[0marray\u001b[0m\u001b[0;34m.\u001b[0m\u001b[0mshape\u001b[0m\u001b[0;34m,\u001b[0m \u001b[0mshapes\u001b[0m\u001b[0;34m[\u001b[0m\u001b[0mi\u001b[0m\u001b[0;34m]\u001b[0m\u001b[0;34m)\u001b[0m\u001b[0;34m)\u001b[0m\u001b[0;34m:\u001b[0m\u001b[0;34m\u001b[0m\u001b[0m\n\u001b[1;32m    114\u001b[0m                 \u001b[0;32mif\u001b[0m \u001b[0;32mnot\u001b[0m \u001b[0mj\u001b[0m \u001b[0;32mand\u001b[0m \u001b[0;32mnot\u001b[0m \u001b[0mcheck_batch_axis\u001b[0m\u001b[0;34m:\u001b[0m\u001b[0;34m\u001b[0m\u001b[0m\n",
      "\u001b[0;31mValueError\u001b[0m: Error when checking model input: expected flatten_input_1 to have 4 dimensions, but got array with shape (0, 1)"
     ]
    }
   ],
   "source": [
    "#import data \n",
    "\n",
    "lines = []\n",
    "df = pd.read_csv(\"/Users/jaydenmilton/Documents/Self-Driving-Car-Engineer-Nanodegree-Program/CarND-Behavioral-Cloning-P3/data/driving_log.csv\")\n",
    "df.describe(include='all')\n",
    "'''\n",
    "with open(file_name) as csvfile:\n",
    "    reader = csv.reader(csvfile)\n",
    "    for line in reader:\n",
    "        lines.append(line)\n",
    "'''\n",
    "images = []\n",
    "measurements = []\n",
    "\n",
    "for line in lines:\n",
    "#    image = cv2.imread(line[0])\n",
    "    source_path=line[0]\n",
    "#assert image is not None\n",
    "    filename = source_path.split('/')[-1]\n",
    "    current_path = '/Users/jaydenmilton/Documents/Self-Driving-Car-Engineer-Nanodegree-Program/CarND-Behavioral-Cloning-P3/data/IMG/' + filename\n",
    "    image = cv2.imread(current_path)\n",
    "    if image is None:\n",
    "        print(\"Image path incorrect: \", current_path)\n",
    "        continue  # skip adding these rows in the for loop\n",
    "\n",
    "    images.append(image)\n",
    "    measurement= float(line[3])\n",
    "    measurements.append(measurement)\n",
    "\n",
    "X_train = np.array(images)\n",
    "y_train = np.array(measurements)\n",
    "\n",
    "\n",
    "from keras.models import Sequential\n",
    "from keras.layers import Flatten, Dense\n",
    "\n",
    "model = Sequential()\n",
    "model.add(Flatten(input_shape=(160,320,3)))\n",
    "model.add(Dense(1))\n",
    "\n",
    "model.compile(loss='mse',optimizer='adam')\n",
    "model.fit(X_train, y_train, validation_split=0.2)\n",
    "\n",
    "model.save('model.h5')\n"
   ]
  },
  {
   "cell_type": "code",
   "execution_count": 6,
   "metadata": {},
   "outputs": [
    {
     "data": {
      "text/plain": [
       "'/Users/jaydenmilton/Documents/Self-Driving-Car-Engineer-Nanodegree-Program/CarND-Behavioral-Cloning-P3'"
      ]
     },
     "execution_count": 6,
     "metadata": {},
     "output_type": "execute_result"
    }
   ],
   "source": [
    "pwd"
   ]
  },
  {
   "cell_type": "code",
   "execution_count": 9,
   "metadata": {},
   "outputs": [
    {
     "data": {
      "text/plain": [
       "<bound method DataFrame.info of      /Users/jaydenmilton/Documents/IMG/center_2018_04_26_19_06_59_225.jpg  \\\n",
       "0     /Users/jaydenmilton/Documents/IMG/center_2018_...                     \n",
       "1     /Users/jaydenmilton/Documents/IMG/center_2018_...                     \n",
       "2     /Users/jaydenmilton/Documents/IMG/center_2018_...                     \n",
       "3     /Users/jaydenmilton/Documents/IMG/center_2018_...                     \n",
       "4     /Users/jaydenmilton/Documents/IMG/center_2018_...                     \n",
       "5     /Users/jaydenmilton/Documents/IMG/center_2018_...                     \n",
       "6     /Users/jaydenmilton/Documents/IMG/center_2018_...                     \n",
       "7     /Users/jaydenmilton/Documents/IMG/center_2018_...                     \n",
       "8     /Users/jaydenmilton/Documents/IMG/center_2018_...                     \n",
       "9     /Users/jaydenmilton/Documents/IMG/center_2018_...                     \n",
       "10    /Users/jaydenmilton/Documents/IMG/center_2018_...                     \n",
       "11    /Users/jaydenmilton/Documents/IMG/center_2018_...                     \n",
       "12    /Users/jaydenmilton/Documents/IMG/center_2018_...                     \n",
       "13    /Users/jaydenmilton/Documents/IMG/center_2018_...                     \n",
       "14    /Users/jaydenmilton/Documents/IMG/center_2018_...                     \n",
       "15    /Users/jaydenmilton/Documents/IMG/center_2018_...                     \n",
       "16    /Users/jaydenmilton/Documents/IMG/center_2018_...                     \n",
       "17    /Users/jaydenmilton/Documents/IMG/center_2018_...                     \n",
       "18    /Users/jaydenmilton/Documents/IMG/center_2018_...                     \n",
       "19    /Users/jaydenmilton/Documents/IMG/center_2018_...                     \n",
       "20    /Users/jaydenmilton/Documents/IMG/center_2018_...                     \n",
       "21    /Users/jaydenmilton/Documents/IMG/center_2018_...                     \n",
       "22    /Users/jaydenmilton/Documents/IMG/center_2018_...                     \n",
       "23    /Users/jaydenmilton/Documents/IMG/center_2018_...                     \n",
       "24    /Users/jaydenmilton/Documents/IMG/center_2018_...                     \n",
       "25    /Users/jaydenmilton/Documents/IMG/center_2018_...                     \n",
       "26    /Users/jaydenmilton/Documents/IMG/center_2018_...                     \n",
       "27    /Users/jaydenmilton/Documents/IMG/center_2018_...                     \n",
       "28    /Users/jaydenmilton/Documents/IMG/center_2018_...                     \n",
       "29    /Users/jaydenmilton/Documents/IMG/center_2018_...                     \n",
       "...                                                 ...                     \n",
       "6822  /Users/jaydenmilton/Documents/Self-Driving-Car...                     \n",
       "6823  /Users/jaydenmilton/Documents/Self-Driving-Car...                     \n",
       "6824  /Users/jaydenmilton/Documents/Self-Driving-Car...                     \n",
       "6825  /Users/jaydenmilton/Documents/Self-Driving-Car...                     \n",
       "6826  /Users/jaydenmilton/Documents/Self-Driving-Car...                     \n",
       "6827  /Users/jaydenmilton/Documents/Self-Driving-Car...                     \n",
       "6828  /Users/jaydenmilton/Documents/Self-Driving-Car...                     \n",
       "6829  /Users/jaydenmilton/Documents/Self-Driving-Car...                     \n",
       "6830  /Users/jaydenmilton/Documents/Self-Driving-Car...                     \n",
       "6831  /Users/jaydenmilton/Documents/Self-Driving-Car...                     \n",
       "6832  /Users/jaydenmilton/Documents/Self-Driving-Car...                     \n",
       "6833  /Users/jaydenmilton/Documents/Self-Driving-Car...                     \n",
       "6834  /Users/jaydenmilton/Documents/Self-Driving-Car...                     \n",
       "6835  /Users/jaydenmilton/Documents/Self-Driving-Car...                     \n",
       "6836  /Users/jaydenmilton/Documents/Self-Driving-Car...                     \n",
       "6837  /Users/jaydenmilton/Documents/Self-Driving-Car...                     \n",
       "6838  /Users/jaydenmilton/Documents/Self-Driving-Car...                     \n",
       "6839  /Users/jaydenmilton/Documents/Self-Driving-Car...                     \n",
       "6840  /Users/jaydenmilton/Documents/Self-Driving-Car...                     \n",
       "6841  /Users/jaydenmilton/Documents/Self-Driving-Car...                     \n",
       "6842  /Users/jaydenmilton/Documents/Self-Driving-Car...                     \n",
       "6843  /Users/jaydenmilton/Documents/Self-Driving-Car...                     \n",
       "6844  /Users/jaydenmilton/Documents/Self-Driving-Car...                     \n",
       "6845  /Users/jaydenmilton/Documents/Self-Driving-Car...                     \n",
       "6846  /Users/jaydenmilton/Documents/Self-Driving-Car...                     \n",
       "6847  /Users/jaydenmilton/Documents/Self-Driving-Car...                     \n",
       "6848  /Users/jaydenmilton/Documents/Self-Driving-Car...                     \n",
       "6849  /Users/jaydenmilton/Documents/Self-Driving-Car...                     \n",
       "6850  /Users/jaydenmilton/Documents/Self-Driving-Car...                     \n",
       "6851  /Users/jaydenmilton/Documents/Self-Driving-Car...                     \n",
       "\n",
       "     /Users/jaydenmilton/Documents/IMG/left_2018_04_26_19_06_59_225.jpg  \\\n",
       "0     /Users/jaydenmilton/Documents/IMG/left_2018_04...                   \n",
       "1     /Users/jaydenmilton/Documents/IMG/left_2018_04...                   \n",
       "2     /Users/jaydenmilton/Documents/IMG/left_2018_04...                   \n",
       "3     /Users/jaydenmilton/Documents/IMG/left_2018_04...                   \n",
       "4     /Users/jaydenmilton/Documents/IMG/left_2018_04...                   \n",
       "5     /Users/jaydenmilton/Documents/IMG/left_2018_04...                   \n",
       "6     /Users/jaydenmilton/Documents/IMG/left_2018_04...                   \n",
       "7     /Users/jaydenmilton/Documents/IMG/left_2018_04...                   \n",
       "8     /Users/jaydenmilton/Documents/IMG/left_2018_04...                   \n",
       "9     /Users/jaydenmilton/Documents/IMG/left_2018_04...                   \n",
       "10    /Users/jaydenmilton/Documents/IMG/left_2018_04...                   \n",
       "11    /Users/jaydenmilton/Documents/IMG/left_2018_04...                   \n",
       "12    /Users/jaydenmilton/Documents/IMG/left_2018_04...                   \n",
       "13    /Users/jaydenmilton/Documents/IMG/left_2018_04...                   \n",
       "14    /Users/jaydenmilton/Documents/IMG/left_2018_04...                   \n",
       "15    /Users/jaydenmilton/Documents/IMG/left_2018_04...                   \n",
       "16    /Users/jaydenmilton/Documents/IMG/left_2018_04...                   \n",
       "17    /Users/jaydenmilton/Documents/IMG/left_2018_04...                   \n",
       "18    /Users/jaydenmilton/Documents/IMG/left_2018_04...                   \n",
       "19    /Users/jaydenmilton/Documents/IMG/left_2018_04...                   \n",
       "20    /Users/jaydenmilton/Documents/IMG/left_2018_04...                   \n",
       "21    /Users/jaydenmilton/Documents/IMG/left_2018_04...                   \n",
       "22    /Users/jaydenmilton/Documents/IMG/left_2018_04...                   \n",
       "23    /Users/jaydenmilton/Documents/IMG/left_2018_04...                   \n",
       "24    /Users/jaydenmilton/Documents/IMG/left_2018_04...                   \n",
       "25    /Users/jaydenmilton/Documents/IMG/left_2018_04...                   \n",
       "26    /Users/jaydenmilton/Documents/IMG/left_2018_04...                   \n",
       "27    /Users/jaydenmilton/Documents/IMG/left_2018_04...                   \n",
       "28    /Users/jaydenmilton/Documents/IMG/left_2018_04...                   \n",
       "29    /Users/jaydenmilton/Documents/IMG/left_2018_04...                   \n",
       "...                                                 ...                   \n",
       "6822  /Users/jaydenmilton/Documents/Self-Driving-Car...                   \n",
       "6823  /Users/jaydenmilton/Documents/Self-Driving-Car...                   \n",
       "6824  /Users/jaydenmilton/Documents/Self-Driving-Car...                   \n",
       "6825  /Users/jaydenmilton/Documents/Self-Driving-Car...                   \n",
       "6826  /Users/jaydenmilton/Documents/Self-Driving-Car...                   \n",
       "6827  /Users/jaydenmilton/Documents/Self-Driving-Car...                   \n",
       "6828  /Users/jaydenmilton/Documents/Self-Driving-Car...                   \n",
       "6829  /Users/jaydenmilton/Documents/Self-Driving-Car...                   \n",
       "6830  /Users/jaydenmilton/Documents/Self-Driving-Car...                   \n",
       "6831  /Users/jaydenmilton/Documents/Self-Driving-Car...                   \n",
       "6832  /Users/jaydenmilton/Documents/Self-Driving-Car...                   \n",
       "6833  /Users/jaydenmilton/Documents/Self-Driving-Car...                   \n",
       "6834  /Users/jaydenmilton/Documents/Self-Driving-Car...                   \n",
       "6835  /Users/jaydenmilton/Documents/Self-Driving-Car...                   \n",
       "6836  /Users/jaydenmilton/Documents/Self-Driving-Car...                   \n",
       "6837  /Users/jaydenmilton/Documents/Self-Driving-Car...                   \n",
       "6838  /Users/jaydenmilton/Documents/Self-Driving-Car...                   \n",
       "6839  /Users/jaydenmilton/Documents/Self-Driving-Car...                   \n",
       "6840  /Users/jaydenmilton/Documents/Self-Driving-Car...                   \n",
       "6841  /Users/jaydenmilton/Documents/Self-Driving-Car...                   \n",
       "6842  /Users/jaydenmilton/Documents/Self-Driving-Car...                   \n",
       "6843  /Users/jaydenmilton/Documents/Self-Driving-Car...                   \n",
       "6844  /Users/jaydenmilton/Documents/Self-Driving-Car...                   \n",
       "6845  /Users/jaydenmilton/Documents/Self-Driving-Car...                   \n",
       "6846  /Users/jaydenmilton/Documents/Self-Driving-Car...                   \n",
       "6847  /Users/jaydenmilton/Documents/Self-Driving-Car...                   \n",
       "6848  /Users/jaydenmilton/Documents/Self-Driving-Car...                   \n",
       "6849  /Users/jaydenmilton/Documents/Self-Driving-Car...                   \n",
       "6850  /Users/jaydenmilton/Documents/Self-Driving-Car...                   \n",
       "6851  /Users/jaydenmilton/Documents/Self-Driving-Car...                   \n",
       "\n",
       "     /Users/jaydenmilton/Documents/IMG/right_2018_04_26_19_06_59_225.jpg  \\\n",
       "0     /Users/jaydenmilton/Documents/IMG/right_2018_0...                    \n",
       "1     /Users/jaydenmilton/Documents/IMG/right_2018_0...                    \n",
       "2     /Users/jaydenmilton/Documents/IMG/right_2018_0...                    \n",
       "3     /Users/jaydenmilton/Documents/IMG/right_2018_0...                    \n",
       "4     /Users/jaydenmilton/Documents/IMG/right_2018_0...                    \n",
       "5     /Users/jaydenmilton/Documents/IMG/right_2018_0...                    \n",
       "6     /Users/jaydenmilton/Documents/IMG/right_2018_0...                    \n",
       "7     /Users/jaydenmilton/Documents/IMG/right_2018_0...                    \n",
       "8     /Users/jaydenmilton/Documents/IMG/right_2018_0...                    \n",
       "9     /Users/jaydenmilton/Documents/IMG/right_2018_0...                    \n",
       "10    /Users/jaydenmilton/Documents/IMG/right_2018_0...                    \n",
       "11    /Users/jaydenmilton/Documents/IMG/right_2018_0...                    \n",
       "12    /Users/jaydenmilton/Documents/IMG/right_2018_0...                    \n",
       "13    /Users/jaydenmilton/Documents/IMG/right_2018_0...                    \n",
       "14    /Users/jaydenmilton/Documents/IMG/right_2018_0...                    \n",
       "15    /Users/jaydenmilton/Documents/IMG/right_2018_0...                    \n",
       "16    /Users/jaydenmilton/Documents/IMG/right_2018_0...                    \n",
       "17    /Users/jaydenmilton/Documents/IMG/right_2018_0...                    \n",
       "18    /Users/jaydenmilton/Documents/IMG/right_2018_0...                    \n",
       "19    /Users/jaydenmilton/Documents/IMG/right_2018_0...                    \n",
       "20    /Users/jaydenmilton/Documents/IMG/right_2018_0...                    \n",
       "21    /Users/jaydenmilton/Documents/IMG/right_2018_0...                    \n",
       "22    /Users/jaydenmilton/Documents/IMG/right_2018_0...                    \n",
       "23    /Users/jaydenmilton/Documents/IMG/right_2018_0...                    \n",
       "24    /Users/jaydenmilton/Documents/IMG/right_2018_0...                    \n",
       "25    /Users/jaydenmilton/Documents/IMG/right_2018_0...                    \n",
       "26    /Users/jaydenmilton/Documents/IMG/right_2018_0...                    \n",
       "27    /Users/jaydenmilton/Documents/IMG/right_2018_0...                    \n",
       "28    /Users/jaydenmilton/Documents/IMG/right_2018_0...                    \n",
       "29    /Users/jaydenmilton/Documents/IMG/right_2018_0...                    \n",
       "...                                                 ...                    \n",
       "6822  /Users/jaydenmilton/Documents/Self-Driving-Car...                    \n",
       "6823  /Users/jaydenmilton/Documents/Self-Driving-Car...                    \n",
       "6824  /Users/jaydenmilton/Documents/Self-Driving-Car...                    \n",
       "6825  /Users/jaydenmilton/Documents/Self-Driving-Car...                    \n",
       "6826  /Users/jaydenmilton/Documents/Self-Driving-Car...                    \n",
       "6827  /Users/jaydenmilton/Documents/Self-Driving-Car...                    \n",
       "6828  /Users/jaydenmilton/Documents/Self-Driving-Car...                    \n",
       "6829  /Users/jaydenmilton/Documents/Self-Driving-Car...                    \n",
       "6830  /Users/jaydenmilton/Documents/Self-Driving-Car...                    \n",
       "6831  /Users/jaydenmilton/Documents/Self-Driving-Car...                    \n",
       "6832  /Users/jaydenmilton/Documents/Self-Driving-Car...                    \n",
       "6833  /Users/jaydenmilton/Documents/Self-Driving-Car...                    \n",
       "6834  /Users/jaydenmilton/Documents/Self-Driving-Car...                    \n",
       "6835  /Users/jaydenmilton/Documents/Self-Driving-Car...                    \n",
       "6836  /Users/jaydenmilton/Documents/Self-Driving-Car...                    \n",
       "6837  /Users/jaydenmilton/Documents/Self-Driving-Car...                    \n",
       "6838  /Users/jaydenmilton/Documents/Self-Driving-Car...                    \n",
       "6839  /Users/jaydenmilton/Documents/Self-Driving-Car...                    \n",
       "6840  /Users/jaydenmilton/Documents/Self-Driving-Car...                    \n",
       "6841  /Users/jaydenmilton/Documents/Self-Driving-Car...                    \n",
       "6842  /Users/jaydenmilton/Documents/Self-Driving-Car...                    \n",
       "6843  /Users/jaydenmilton/Documents/Self-Driving-Car...                    \n",
       "6844  /Users/jaydenmilton/Documents/Self-Driving-Car...                    \n",
       "6845  /Users/jaydenmilton/Documents/Self-Driving-Car...                    \n",
       "6846  /Users/jaydenmilton/Documents/Self-Driving-Car...                    \n",
       "6847  /Users/jaydenmilton/Documents/Self-Driving-Car...                    \n",
       "6848  /Users/jaydenmilton/Documents/Self-Driving-Car...                    \n",
       "6849  /Users/jaydenmilton/Documents/Self-Driving-Car...                    \n",
       "6850  /Users/jaydenmilton/Documents/Self-Driving-Car...                    \n",
       "6851  /Users/jaydenmilton/Documents/Self-Driving-Car...                    \n",
       "\n",
       "             0  \n",
       "0     0.000000  \n",
       "1     0.000000  \n",
       "2     0.000000  \n",
       "3    -0.350000  \n",
       "4    -0.650000  \n",
       "5    -0.850000  \n",
       "6    -0.778234  \n",
       "7    -0.560035  \n",
       "8     0.000000  \n",
       "9     0.000000  \n",
       "10    0.000000  \n",
       "11    0.000000  \n",
       "12    0.000000  \n",
       "13    0.000000  \n",
       "14    0.000000  \n",
       "15   -0.350000  \n",
       "16   -0.016176  \n",
       "17    0.000000  \n",
       "18   -0.200000  \n",
       "19   -0.500000  \n",
       "20   -0.254724  \n",
       "21   -0.704724  \n",
       "22   -0.954724  \n",
       "23   -1.000000  \n",
       "24   -0.661957  \n",
       "25    0.000000  \n",
       "26    0.000000  \n",
       "27    0.000000  \n",
       "28    0.000000  \n",
       "29    0.200000  \n",
       "...        ...  \n",
       "6822  0.000000  \n",
       "6823  0.000000  \n",
       "6824  0.000000  \n",
       "6825  0.000000  \n",
       "6826  0.000000  \n",
       "6827 -0.150000  \n",
       "6828 -0.226887  \n",
       "6829  0.000000  \n",
       "6830  0.000000  \n",
       "6831  0.000000  \n",
       "6832  0.000000  \n",
       "6833  0.000000  \n",
       "6834  0.000000  \n",
       "6835  0.000000  \n",
       "6836  0.000000  \n",
       "6837  0.000000  \n",
       "6838  0.000000  \n",
       "6839 -0.150000  \n",
       "6840 -0.300000  \n",
       "6841 -0.510198  \n",
       "6842 -0.289086  \n",
       "6843 -0.057645  \n",
       "6844  0.000000  \n",
       "6845  0.000000  \n",
       "6846  0.000000  \n",
       "6847  0.000000  \n",
       "6848  0.000000  \n",
       "6849  0.000000  \n",
       "6850  0.000000  \n",
       "6851  0.000000  \n",
       "\n",
       "[6852 rows x 4 columns]>"
      ]
     },
     "execution_count": 9,
     "metadata": {},
     "output_type": "execute_result"
    }
   ],
   "source": [
    "import pandas as pd\n",
    "df = pd.read_csv('/Users/jaydenmilton/Documents/Self-Driving-Car-Engineer-Nanodegree-Program/CarND-Behavioral-Cloning-P3/data/driving_log.csv', usecols=[0,1,2,3])\n",
    "df.info"
   ]
  },
  {
   "cell_type": "code",
   "execution_count": 6,
   "metadata": {},
   "outputs": [
    {
     "name": "stdout",
     "output_type": "stream",
     "text": [
      "<class 'pandas.core.frame.DataFrame'>\n",
      "RangeIndex: 3520 entries, 0 to 3519\n",
      "Data columns (total 7 columns):\n",
      "center      3520 non-null object\n",
      "left        3520 non-null object\n",
      "right       3520 non-null object\n",
      "angle       3520 non-null object\n",
      "throttle    3520 non-null object\n",
      "break       3520 non-null object\n",
      "speed       3520 non-null object\n",
      "dtypes: object(7)\n",
      "memory usage: 192.6+ KB\n"
     ]
    }
   ],
   "source": [
    "driving_log = load_driving_log()\n",
    "driving_log.info()"
   ]
  },
  {
   "cell_type": "code",
   "execution_count": 7,
   "metadata": {},
   "outputs": [
    {
     "data": {
      "text/html": [
       "<div>\n",
       "<style scoped>\n",
       "    .dataframe tbody tr th:only-of-type {\n",
       "        vertical-align: middle;\n",
       "    }\n",
       "\n",
       "    .dataframe tbody tr th {\n",
       "        vertical-align: top;\n",
       "    }\n",
       "\n",
       "    .dataframe thead th {\n",
       "        text-align: right;\n",
       "    }\n",
       "</style>\n",
       "<table border=\"1\" class=\"dataframe\">\n",
       "  <thead>\n",
       "    <tr style=\"text-align: right;\">\n",
       "      <th></th>\n",
       "      <th>center</th>\n",
       "      <th>left</th>\n",
       "      <th>right</th>\n",
       "      <th>angle</th>\n",
       "      <th>throttle</th>\n",
       "      <th>break</th>\n",
       "      <th>speed</th>\n",
       "    </tr>\n",
       "  </thead>\n",
       "  <tbody>\n",
       "    <tr>\n",
       "      <th>0</th>\n",
       "      <td>/Users/jaydenyuen/Documents/Self-Driving-Car-E...</td>\n",
       "      <td>/Users/jaydenyuen/Documents/Self-Driving-Car-E...</td>\n",
       "      <td>/Users/jaydenyuen/Documents/Self-Driving-Car-E...</td>\n",
       "      <td>0</td>\n",
       "      <td>0</td>\n",
       "      <td>0</td>\n",
       "      <td>6.48E-06</td>\n",
       "    </tr>\n",
       "    <tr>\n",
       "      <th>1</th>\n",
       "      <td>/Users/jaydenyuen/Documents/Self-Driving-Car-E...</td>\n",
       "      <td>/Users/jaydenyuen/Documents/Self-Driving-Car-E...</td>\n",
       "      <td>/Users/jaydenyuen/Documents/Self-Driving-Car-E...</td>\n",
       "      <td>0</td>\n",
       "      <td>0</td>\n",
       "      <td>0</td>\n",
       "      <td>5.29E-06</td>\n",
       "    </tr>\n",
       "    <tr>\n",
       "      <th>2</th>\n",
       "      <td>/Users/jaydenyuen/Documents/Self-Driving-Car-E...</td>\n",
       "      <td>/Users/jaydenyuen/Documents/Self-Driving-Car-E...</td>\n",
       "      <td>/Users/jaydenyuen/Documents/Self-Driving-Car-E...</td>\n",
       "      <td>0</td>\n",
       "      <td>0</td>\n",
       "      <td>0</td>\n",
       "      <td>3.89E-06</td>\n",
       "    </tr>\n",
       "    <tr>\n",
       "      <th>3</th>\n",
       "      <td>/Users/jaydenyuen/Documents/Self-Driving-Car-E...</td>\n",
       "      <td>/Users/jaydenyuen/Documents/Self-Driving-Car-E...</td>\n",
       "      <td>/Users/jaydenyuen/Documents/Self-Driving-Car-E...</td>\n",
       "      <td>0</td>\n",
       "      <td>0</td>\n",
       "      <td>0</td>\n",
       "      <td>2.43E-06</td>\n",
       "    </tr>\n",
       "    <tr>\n",
       "      <th>4</th>\n",
       "      <td>/Users/jaydenyuen/Documents/Self-Driving-Car-E...</td>\n",
       "      <td>/Users/jaydenyuen/Documents/Self-Driving-Car-E...</td>\n",
       "      <td>/Users/jaydenyuen/Documents/Self-Driving-Car-E...</td>\n",
       "      <td>0</td>\n",
       "      <td>0.1398872</td>\n",
       "      <td>0</td>\n",
       "      <td>0.0505136</td>\n",
       "    </tr>\n",
       "  </tbody>\n",
       "</table>\n",
       "</div>"
      ],
      "text/plain": [
       "                                              center  \\\n",
       "0  /Users/jaydenyuen/Documents/Self-Driving-Car-E...   \n",
       "1  /Users/jaydenyuen/Documents/Self-Driving-Car-E...   \n",
       "2  /Users/jaydenyuen/Documents/Self-Driving-Car-E...   \n",
       "3  /Users/jaydenyuen/Documents/Self-Driving-Car-E...   \n",
       "4  /Users/jaydenyuen/Documents/Self-Driving-Car-E...   \n",
       "\n",
       "                                                left  \\\n",
       "0  /Users/jaydenyuen/Documents/Self-Driving-Car-E...   \n",
       "1  /Users/jaydenyuen/Documents/Self-Driving-Car-E...   \n",
       "2  /Users/jaydenyuen/Documents/Self-Driving-Car-E...   \n",
       "3  /Users/jaydenyuen/Documents/Self-Driving-Car-E...   \n",
       "4  /Users/jaydenyuen/Documents/Self-Driving-Car-E...   \n",
       "\n",
       "                                               right angle   throttle break  \\\n",
       "0  /Users/jaydenyuen/Documents/Self-Driving-Car-E...     0          0     0   \n",
       "1  /Users/jaydenyuen/Documents/Self-Driving-Car-E...     0          0     0   \n",
       "2  /Users/jaydenyuen/Documents/Self-Driving-Car-E...     0          0     0   \n",
       "3  /Users/jaydenyuen/Documents/Self-Driving-Car-E...     0          0     0   \n",
       "4  /Users/jaydenyuen/Documents/Self-Driving-Car-E...     0  0.1398872     0   \n",
       "\n",
       "       speed  \n",
       "0   6.48E-06  \n",
       "1   5.29E-06  \n",
       "2   3.89E-06  \n",
       "3   2.43E-06  \n",
       "4  0.0505136  "
      ]
     },
     "execution_count": 7,
     "metadata": {},
     "output_type": "execute_result"
    }
   ],
   "source": [
    "driving_log.head()"
   ]
  },
  {
   "cell_type": "code",
   "execution_count": 8,
   "metadata": {},
   "outputs": [],
   "source": [
    "train_samples, validation_samples = train_test_split(driving_log, test_size=0.2)"
   ]
  },
  {
   "cell_type": "code",
   "execution_count": 9,
   "metadata": {},
   "outputs": [
    {
     "name": "stdout",
     "output_type": "stream",
     "text": [
      "Driving log length: 3520\n",
      "Training samples length: 2816\n",
      "Validation samples length: 704\n"
     ]
    }
   ],
   "source": [
    "print('Driving log length:', len(driving_log))\n",
    "print('Training samples length:', len(train_samples))\n",
    "print('Validation samples length:', len(validation_samples))"
   ]
  },
  {
   "cell_type": "code",
   "execution_count": 10,
   "metadata": {},
   "outputs": [
    {
     "name": "stdout",
     "output_type": "stream",
     "text": [
      "['center', 'left', 'right', 'angle', 'throttle', 'break', 'speed']\n"
     ]
    }
   ],
   "source": [
    "print(list(train_samples))\n",
    "train_generator = generator(list(train_samples), batch_size=32)\n",
    "validation_generator = generator(list(validation_samples), batch_size=32)"
   ]
  },
  {
   "cell_type": "code",
   "execution_count": 11,
   "metadata": {},
   "outputs": [
    {
     "name": "stdout",
     "output_type": "stream",
     "text": [
      "____________________________________________________________________________________________________\n",
      "Layer (type)                     Output Shape          Param #     Connected to                     \n",
      "====================================================================================================\n",
      "cropping2d_1 (Cropping2D)        (None, 65, 320, 3)    0           cropping2d_input_1[0][0]         \n",
      "____________________________________________________________________________________________________\n",
      "lambda_1 (Lambda)                (None, 65, 320, 3)    0           cropping2d_1[0][0]               \n",
      "____________________________________________________________________________________________________\n",
      "convolution2d_1 (Convolution2D)  (None, 31, 158, 24)   1824        lambda_1[0][0]                   \n",
      "____________________________________________________________________________________________________\n",
      "elu_1 (ELU)                      (None, 31, 158, 24)   0           convolution2d_1[0][0]            \n",
      "____________________________________________________________________________________________________\n",
      "convolution2d_2 (Convolution2D)  (None, 14, 77, 36)    21636       elu_1[0][0]                      \n",
      "____________________________________________________________________________________________________\n",
      "elu_2 (ELU)                      (None, 14, 77, 36)    0           convolution2d_2[0][0]            \n",
      "____________________________________________________________________________________________________\n",
      "convolution2d_3 (Convolution2D)  (None, 5, 37, 48)     43248       elu_2[0][0]                      \n",
      "____________________________________________________________________________________________________\n",
      "elu_3 (ELU)                      (None, 5, 37, 48)     0           convolution2d_3[0][0]            \n",
      "____________________________________________________________________________________________________\n",
      "convolution2d_4 (Convolution2D)  (None, 3, 35, 64)     27712       elu_3[0][0]                      \n",
      "____________________________________________________________________________________________________\n",
      "elu_4 (ELU)                      (None, 3, 35, 64)     0           convolution2d_4[0][0]            \n",
      "____________________________________________________________________________________________________\n",
      "convolution2d_5 (Convolution2D)  (None, 1, 33, 64)     36928       elu_4[0][0]                      \n",
      "____________________________________________________________________________________________________\n",
      "dropout_1 (Dropout)              (None, 1, 33, 64)     0           convolution2d_5[0][0]            \n",
      "____________________________________________________________________________________________________\n",
      "elu_5 (ELU)                      (None, 1, 33, 64)     0           dropout_1[0][0]                  \n",
      "____________________________________________________________________________________________________\n",
      "flatten_3 (Flatten)              (None, 2112)          0           elu_5[0][0]                      \n",
      "____________________________________________________________________________________________________\n",
      "dense_3 (Dense)                  (None, 100)           211300      flatten_3[0][0]                  \n",
      "____________________________________________________________________________________________________\n",
      "elu_6 (ELU)                      (None, 100)           0           dense_3[0][0]                    \n",
      "____________________________________________________________________________________________________\n",
      "dense_4 (Dense)                  (None, 50)            5050        elu_6[0][0]                      \n",
      "____________________________________________________________________________________________________\n",
      "elu_7 (ELU)                      (None, 50)            0           dense_4[0][0]                    \n",
      "____________________________________________________________________________________________________\n",
      "dense_5 (Dense)                  (None, 10)            510         elu_7[0][0]                      \n",
      "____________________________________________________________________________________________________\n",
      "elu_8 (ELU)                      (None, 10)            0           dense_5[0][0]                    \n",
      "____________________________________________________________________________________________________\n",
      "dense_6 (Dense)                  (None, 1)             11          elu_8[0][0]                      \n",
      "====================================================================================================\n",
      "Total params: 348,219\n",
      "Trainable params: 348,208\n",
      "Non-trainable params: 11\n",
      "____________________________________________________________________________________________________\n"
     ]
    }
   ],
   "source": [
    "# 1. define basic model\n",
    "model = Sequential()\n",
    "# 6. add cropping\n",
    "model.add(Cropping2D(cropping=((70, 25), (0, 0)), input_shape=(160, 320, 3)))\n",
    "model.add(Lambda(lambda x: x / 255 - 0.5, trainable=False))\n",
    "model.add(Convolution2D(24, 5, 5, subsample=(2, 2), border_mode=\"valid\"))\n",
    "model.add(ELU())\n",
    "model.add(Convolution2D(36, 5, 5, subsample=(2, 2), border_mode=\"valid\"))\n",
    "model.add(ELU())\n",
    "model.add(Convolution2D(48, 5, 5, subsample=(2, 2), border_mode=\"valid\"))\n",
    "model.add(ELU())\n",
    "model.add(Convolution2D(64, 3, 3, border_mode=\"valid\"))\n",
    "model.add(ELU())\n",
    "model.add(Convolution2D(64, 3, 3, border_mode=\"valid\"))\n",
    "model.add(Dropout(0.2))\n",
    "model.add(ELU())\n",
    "model.add(Flatten())\n",
    "model.add(Dense(100))\n",
    "model.add(ELU())\n",
    "model.add(Dense(50))\n",
    "model.add(ELU())\n",
    "model.add(Dense(10))\n",
    "model.add(ELU())\n",
    "model.add(Dense(1, trainable=False))\n",
    "\n",
    "model.summary()"
   ]
  },
  {
   "cell_type": "code",
   "execution_count": 13,
   "metadata": {},
   "outputs": [
    {
     "ename": "AttributeError",
     "evalue": "'DataFrame' object has no attribute 'steering'",
     "output_type": "error",
     "traceback": [
      "\u001b[0;31m---------------------------------------------------------------------------\u001b[0m",
      "\u001b[0;31mAttributeError\u001b[0m                            Traceback (most recent call last)",
      "\u001b[0;32m<ipython-input-13-0013af23de10>\u001b[0m in \u001b[0;36m<module>\u001b[0;34m()\u001b[0m\n\u001b[1;32m      1\u001b[0m \u001b[0;32mimport\u001b[0m \u001b[0mseaborn\u001b[0m \u001b[0;32mas\u001b[0m \u001b[0msns\u001b[0m\u001b[0;34m\u001b[0m\u001b[0m\n\u001b[1;32m      2\u001b[0m \u001b[0mget_ipython\u001b[0m\u001b[0;34m(\u001b[0m\u001b[0;34m)\u001b[0m\u001b[0;34m.\u001b[0m\u001b[0mrun_line_magic\u001b[0m\u001b[0;34m(\u001b[0m\u001b[0;34m'matplotlib'\u001b[0m\u001b[0;34m,\u001b[0m \u001b[0;34m'inline'\u001b[0m\u001b[0;34m)\u001b[0m\u001b[0;34m\u001b[0m\u001b[0m\n\u001b[0;32m----> 3\u001b[0;31m \u001b[0msns\u001b[0m\u001b[0;34m.\u001b[0m\u001b[0mdistplot\u001b[0m\u001b[0;34m(\u001b[0m\u001b[0mdriving_log\u001b[0m\u001b[0;34m.\u001b[0m\u001b[0msteering\u001b[0m\u001b[0;34m)\u001b[0m\u001b[0;34m;\u001b[0m\u001b[0;34m\u001b[0m\u001b[0m\n\u001b[0m\u001b[1;32m      4\u001b[0m \u001b[0mplt\u001b[0m\u001b[0;34m.\u001b[0m\u001b[0msavefig\u001b[0m\u001b[0;34m(\u001b[0m\u001b[0;34m\"steering1.png\"\u001b[0m\u001b[0;34m)\u001b[0m\u001b[0;34m\u001b[0m\u001b[0m\n\u001b[1;32m      5\u001b[0m \u001b[0mplt\u001b[0m\u001b[0;34m.\u001b[0m\u001b[0mshow\u001b[0m\u001b[0;34m(\u001b[0m\u001b[0;34m)\u001b[0m\u001b[0;34m\u001b[0m\u001b[0m\n",
      "\u001b[0;32m~/miniconda3/envs/carnd-term1/lib/python3.5/site-packages/pandas/core/generic.py\u001b[0m in \u001b[0;36m__getattr__\u001b[0;34m(self, name)\u001b[0m\n\u001b[1;32m   3612\u001b[0m             \u001b[0;32mif\u001b[0m \u001b[0mname\u001b[0m \u001b[0;32min\u001b[0m \u001b[0mself\u001b[0m\u001b[0;34m.\u001b[0m\u001b[0m_info_axis\u001b[0m\u001b[0;34m:\u001b[0m\u001b[0;34m\u001b[0m\u001b[0m\n\u001b[1;32m   3613\u001b[0m                 \u001b[0;32mreturn\u001b[0m \u001b[0mself\u001b[0m\u001b[0;34m[\u001b[0m\u001b[0mname\u001b[0m\u001b[0;34m]\u001b[0m\u001b[0;34m\u001b[0m\u001b[0m\n\u001b[0;32m-> 3614\u001b[0;31m             \u001b[0;32mreturn\u001b[0m \u001b[0mobject\u001b[0m\u001b[0;34m.\u001b[0m\u001b[0m__getattribute__\u001b[0m\u001b[0;34m(\u001b[0m\u001b[0mself\u001b[0m\u001b[0;34m,\u001b[0m \u001b[0mname\u001b[0m\u001b[0;34m)\u001b[0m\u001b[0;34m\u001b[0m\u001b[0m\n\u001b[0m\u001b[1;32m   3615\u001b[0m \u001b[0;34m\u001b[0m\u001b[0m\n\u001b[1;32m   3616\u001b[0m     \u001b[0;32mdef\u001b[0m \u001b[0m__setattr__\u001b[0m\u001b[0;34m(\u001b[0m\u001b[0mself\u001b[0m\u001b[0;34m,\u001b[0m \u001b[0mname\u001b[0m\u001b[0;34m,\u001b[0m \u001b[0mvalue\u001b[0m\u001b[0;34m)\u001b[0m\u001b[0;34m:\u001b[0m\u001b[0;34m\u001b[0m\u001b[0m\n",
      "\u001b[0;31mAttributeError\u001b[0m: 'DataFrame' object has no attribute 'steering'"
     ]
    }
   ],
   "source": [
    "import seaborn as sns\n",
    "%matplotlib inline\n",
    "sns.distplot(driving_log.steering);\n",
    "plt.savefig(\"steering1.png\")\n",
    "plt.show()"
   ]
  },
  {
   "cell_type": "code",
   "execution_count": 48,
   "metadata": {},
   "outputs": [
    {
     "name": "stdout",
     "output_type": "stream",
     "text": [
      "Loading images...\n"
     ]
    },
    {
     "ename": "FileNotFoundError",
     "evalue": "File b'/Users/jaydenmilton/Documents/Self-Driving-Car-Engineer-Nanodegree-Program/data/driving_log.csv' does not exist",
     "output_type": "error",
     "traceback": [
      "\u001b[0;31m---------------------------------------------------------------------------\u001b[0m",
      "\u001b[0;31mFileNotFoundError\u001b[0m                         Traceback (most recent call last)",
      "\u001b[0;32m<ipython-input-48-dc65a7bacdc9>\u001b[0m in \u001b[0;36m<module>\u001b[0;34m()\u001b[0m\n\u001b[1;32m     71\u001b[0m     \u001b[0mprint\u001b[0m\u001b[0;34m(\u001b[0m\u001b[0;34m\"Loading images...\"\u001b[0m\u001b[0;34m)\u001b[0m\u001b[0;34m\u001b[0m\u001b[0m\n\u001b[1;32m     72\u001b[0m \u001b[0;34m\u001b[0m\u001b[0m\n\u001b[0;32m---> 73\u001b[0;31m     \u001b[0mdata\u001b[0m \u001b[0;34m=\u001b[0m \u001b[0mpd\u001b[0m\u001b[0;34m.\u001b[0m\u001b[0mread_csv\u001b[0m\u001b[0;34m(\u001b[0m\u001b[0mos\u001b[0m\u001b[0;34m.\u001b[0m\u001b[0mpath\u001b[0m\u001b[0;34m.\u001b[0m\u001b[0mjoin\u001b[0m\u001b[0;34m(\u001b[0m\u001b[0mdataset_dir\u001b[0m\u001b[0;34m,\u001b[0m \u001b[0;34m\"/Users/jaydenmilton/Documents/Self-Driving-Car-Engineer-Nanodegree-Program/data/driving_log.csv\"\u001b[0m\u001b[0;34m)\u001b[0m\u001b[0;34m)\u001b[0m\u001b[0;34m\u001b[0m\u001b[0m\n\u001b[0m\u001b[1;32m     74\u001b[0m \u001b[0;34m\u001b[0m\u001b[0m\n\u001b[1;32m     75\u001b[0m     \u001b[0mX_train\u001b[0m\u001b[0;34m,\u001b[0m \u001b[0my_train\u001b[0m \u001b[0;34m=\u001b[0m \u001b[0mprepare\u001b[0m\u001b[0;34m(\u001b[0m\u001b[0mdata\u001b[0m\u001b[0;34m)\u001b[0m\u001b[0;34m\u001b[0m\u001b[0m\n",
      "\u001b[0;32m~/miniconda3/envs/carnd-term1/lib/python3.5/site-packages/pandas/io/parsers.py\u001b[0m in \u001b[0;36mparser_f\u001b[0;34m(filepath_or_buffer, sep, delimiter, header, names, index_col, usecols, squeeze, prefix, mangle_dupe_cols, dtype, engine, converters, true_values, false_values, skipinitialspace, skiprows, nrows, na_values, keep_default_na, na_filter, verbose, skip_blank_lines, parse_dates, infer_datetime_format, keep_date_col, date_parser, dayfirst, iterator, chunksize, compression, thousands, decimal, lineterminator, quotechar, quoting, escapechar, comment, encoding, dialect, tupleize_cols, error_bad_lines, warn_bad_lines, skipfooter, skip_footer, doublequote, delim_whitespace, as_recarray, compact_ints, use_unsigned, low_memory, buffer_lines, memory_map, float_precision)\u001b[0m\n\u001b[1;32m    707\u001b[0m                     skip_blank_lines=skip_blank_lines)\n\u001b[1;32m    708\u001b[0m \u001b[0;34m\u001b[0m\u001b[0m\n\u001b[0;32m--> 709\u001b[0;31m         \u001b[0;32mreturn\u001b[0m \u001b[0m_read\u001b[0m\u001b[0;34m(\u001b[0m\u001b[0mfilepath_or_buffer\u001b[0m\u001b[0;34m,\u001b[0m \u001b[0mkwds\u001b[0m\u001b[0;34m)\u001b[0m\u001b[0;34m\u001b[0m\u001b[0m\n\u001b[0m\u001b[1;32m    710\u001b[0m \u001b[0;34m\u001b[0m\u001b[0m\n\u001b[1;32m    711\u001b[0m     \u001b[0mparser_f\u001b[0m\u001b[0;34m.\u001b[0m\u001b[0m__name__\u001b[0m \u001b[0;34m=\u001b[0m \u001b[0mname\u001b[0m\u001b[0;34m\u001b[0m\u001b[0m\n",
      "\u001b[0;32m~/miniconda3/envs/carnd-term1/lib/python3.5/site-packages/pandas/io/parsers.py\u001b[0m in \u001b[0;36m_read\u001b[0;34m(filepath_or_buffer, kwds)\u001b[0m\n\u001b[1;32m    447\u001b[0m \u001b[0;34m\u001b[0m\u001b[0m\n\u001b[1;32m    448\u001b[0m     \u001b[0;31m# Create the parser.\u001b[0m\u001b[0;34m\u001b[0m\u001b[0;34m\u001b[0m\u001b[0m\n\u001b[0;32m--> 449\u001b[0;31m     \u001b[0mparser\u001b[0m \u001b[0;34m=\u001b[0m \u001b[0mTextFileReader\u001b[0m\u001b[0;34m(\u001b[0m\u001b[0mfilepath_or_buffer\u001b[0m\u001b[0;34m,\u001b[0m \u001b[0;34m**\u001b[0m\u001b[0mkwds\u001b[0m\u001b[0;34m)\u001b[0m\u001b[0;34m\u001b[0m\u001b[0m\n\u001b[0m\u001b[1;32m    450\u001b[0m \u001b[0;34m\u001b[0m\u001b[0m\n\u001b[1;32m    451\u001b[0m     \u001b[0;32mif\u001b[0m \u001b[0mchunksize\u001b[0m \u001b[0;32mor\u001b[0m \u001b[0miterator\u001b[0m\u001b[0;34m:\u001b[0m\u001b[0;34m\u001b[0m\u001b[0m\n",
      "\u001b[0;32m~/miniconda3/envs/carnd-term1/lib/python3.5/site-packages/pandas/io/parsers.py\u001b[0m in \u001b[0;36m__init__\u001b[0;34m(self, f, engine, **kwds)\u001b[0m\n\u001b[1;32m    816\u001b[0m             \u001b[0mself\u001b[0m\u001b[0;34m.\u001b[0m\u001b[0moptions\u001b[0m\u001b[0;34m[\u001b[0m\u001b[0;34m'has_index_names'\u001b[0m\u001b[0;34m]\u001b[0m \u001b[0;34m=\u001b[0m \u001b[0mkwds\u001b[0m\u001b[0;34m[\u001b[0m\u001b[0;34m'has_index_names'\u001b[0m\u001b[0;34m]\u001b[0m\u001b[0;34m\u001b[0m\u001b[0m\n\u001b[1;32m    817\u001b[0m \u001b[0;34m\u001b[0m\u001b[0m\n\u001b[0;32m--> 818\u001b[0;31m         \u001b[0mself\u001b[0m\u001b[0;34m.\u001b[0m\u001b[0m_make_engine\u001b[0m\u001b[0;34m(\u001b[0m\u001b[0mself\u001b[0m\u001b[0;34m.\u001b[0m\u001b[0mengine\u001b[0m\u001b[0;34m)\u001b[0m\u001b[0;34m\u001b[0m\u001b[0m\n\u001b[0m\u001b[1;32m    819\u001b[0m \u001b[0;34m\u001b[0m\u001b[0m\n\u001b[1;32m    820\u001b[0m     \u001b[0;32mdef\u001b[0m \u001b[0mclose\u001b[0m\u001b[0;34m(\u001b[0m\u001b[0mself\u001b[0m\u001b[0;34m)\u001b[0m\u001b[0;34m:\u001b[0m\u001b[0;34m\u001b[0m\u001b[0m\n",
      "\u001b[0;32m~/miniconda3/envs/carnd-term1/lib/python3.5/site-packages/pandas/io/parsers.py\u001b[0m in \u001b[0;36m_make_engine\u001b[0;34m(self, engine)\u001b[0m\n\u001b[1;32m   1047\u001b[0m     \u001b[0;32mdef\u001b[0m \u001b[0m_make_engine\u001b[0m\u001b[0;34m(\u001b[0m\u001b[0mself\u001b[0m\u001b[0;34m,\u001b[0m \u001b[0mengine\u001b[0m\u001b[0;34m=\u001b[0m\u001b[0;34m'c'\u001b[0m\u001b[0;34m)\u001b[0m\u001b[0;34m:\u001b[0m\u001b[0;34m\u001b[0m\u001b[0m\n\u001b[1;32m   1048\u001b[0m         \u001b[0;32mif\u001b[0m \u001b[0mengine\u001b[0m \u001b[0;34m==\u001b[0m \u001b[0;34m'c'\u001b[0m\u001b[0;34m:\u001b[0m\u001b[0;34m\u001b[0m\u001b[0m\n\u001b[0;32m-> 1049\u001b[0;31m             \u001b[0mself\u001b[0m\u001b[0;34m.\u001b[0m\u001b[0m_engine\u001b[0m \u001b[0;34m=\u001b[0m \u001b[0mCParserWrapper\u001b[0m\u001b[0;34m(\u001b[0m\u001b[0mself\u001b[0m\u001b[0;34m.\u001b[0m\u001b[0mf\u001b[0m\u001b[0;34m,\u001b[0m \u001b[0;34m**\u001b[0m\u001b[0mself\u001b[0m\u001b[0;34m.\u001b[0m\u001b[0moptions\u001b[0m\u001b[0;34m)\u001b[0m\u001b[0;34m\u001b[0m\u001b[0m\n\u001b[0m\u001b[1;32m   1050\u001b[0m         \u001b[0;32melse\u001b[0m\u001b[0;34m:\u001b[0m\u001b[0;34m\u001b[0m\u001b[0m\n\u001b[1;32m   1051\u001b[0m             \u001b[0;32mif\u001b[0m \u001b[0mengine\u001b[0m \u001b[0;34m==\u001b[0m \u001b[0;34m'python'\u001b[0m\u001b[0;34m:\u001b[0m\u001b[0;34m\u001b[0m\u001b[0m\n",
      "\u001b[0;32m~/miniconda3/envs/carnd-term1/lib/python3.5/site-packages/pandas/io/parsers.py\u001b[0m in \u001b[0;36m__init__\u001b[0;34m(self, src, **kwds)\u001b[0m\n\u001b[1;32m   1693\u001b[0m         \u001b[0mkwds\u001b[0m\u001b[0;34m[\u001b[0m\u001b[0;34m'allow_leading_cols'\u001b[0m\u001b[0;34m]\u001b[0m \u001b[0;34m=\u001b[0m \u001b[0mself\u001b[0m\u001b[0;34m.\u001b[0m\u001b[0mindex_col\u001b[0m \u001b[0;32mis\u001b[0m \u001b[0;32mnot\u001b[0m \u001b[0;32mFalse\u001b[0m\u001b[0;34m\u001b[0m\u001b[0m\n\u001b[1;32m   1694\u001b[0m \u001b[0;34m\u001b[0m\u001b[0m\n\u001b[0;32m-> 1695\u001b[0;31m         \u001b[0mself\u001b[0m\u001b[0;34m.\u001b[0m\u001b[0m_reader\u001b[0m \u001b[0;34m=\u001b[0m \u001b[0mparsers\u001b[0m\u001b[0;34m.\u001b[0m\u001b[0mTextReader\u001b[0m\u001b[0;34m(\u001b[0m\u001b[0msrc\u001b[0m\u001b[0;34m,\u001b[0m \u001b[0;34m**\u001b[0m\u001b[0mkwds\u001b[0m\u001b[0;34m)\u001b[0m\u001b[0;34m\u001b[0m\u001b[0m\n\u001b[0m\u001b[1;32m   1696\u001b[0m \u001b[0;34m\u001b[0m\u001b[0m\n\u001b[1;32m   1697\u001b[0m         \u001b[0;31m# XXX\u001b[0m\u001b[0;34m\u001b[0m\u001b[0;34m\u001b[0m\u001b[0m\n",
      "\u001b[0;32mpandas/_libs/parsers.pyx\u001b[0m in \u001b[0;36mpandas._libs.parsers.TextReader.__cinit__\u001b[0;34m()\u001b[0m\n",
      "\u001b[0;32mpandas/_libs/parsers.pyx\u001b[0m in \u001b[0;36mpandas._libs.parsers.TextReader._setup_parser_source\u001b[0;34m()\u001b[0m\n",
      "\u001b[0;31mFileNotFoundError\u001b[0m: File b'/Users/jaydenmilton/Documents/Self-Driving-Car-Engineer-Nanodegree-Program/data/driving_log.csv' does not exist"
     ]
    }
   ],
   "source": [
    "import os\n",
    "import pandas as pd\n",
    "import numpy as np\n",
    "import cv2\n",
    "from keras.models import Sequential\n",
    "from keras.layers import Flatten, Dense, Dropout, MaxPooling2D, Conv2D, Lambda\n",
    "from keras.callbacks import ModelCheckpoint, EarlyStopping\n",
    "from sklearn.utils import shuffle\n",
    "\n",
    "import tensorflow as tf\n",
    "\n",
    "epochs = 50\n",
    "batch_size = 128\n",
    "dataset_dir = \"/Users/jaydenmilton/Documents/Self-Driving-Car-Engineer-Nanodegree-Program/data/IMG\"\n",
    "image_columns = 32\n",
    "image_rows = 16\n",
    "image_channels = 1\n",
    "side_shift = 0.3\n",
    "\n",
    "\n",
    "def preproccess_image(image):\n",
    "    image = (cv2.cvtColor(image, cv2.COLOR_BGR2HSV))[:, :, 1]\n",
    "    image = image.reshape(160, 320, 1)\n",
    "    image = cv2.resize(image, (image_columns, image_rows))\n",
    "    return image\n",
    "\n",
    "\n",
    "def prepare(data):\n",
    "    x, y = [], []\n",
    "\n",
    "    for i in range(len(data)):\n",
    "        line_data = data.iloc[i]\n",
    "        y_steer = line_data['steering']\n",
    "        path_center = line_data['center'].strip()\n",
    "        path_left = line_data['left'].strip()\n",
    "        path_right = line_data['right'].strip()\n",
    "\n",
    "        for path, shift in [(path_center, 0), (path_left, side_shift), (path_right, -side_shift)]:\n",
    "            # read image\n",
    "            image_path = os.path.join(dataset_dir, path)\n",
    "            image = cv2.imread(image_path)\n",
    "\n",
    "            # preprocess image\n",
    "            image = preproccess_image(image)\n",
    "\n",
    "            # add image\n",
    "            x.append(image)\n",
    "            y.append(y_steer + shift)\n",
    "\n",
    "            # add flipped image\n",
    "            image = image[:, ::-1]\n",
    "            x.append(image)\n",
    "            y.append(-(y_steer + shift))\n",
    "\n",
    "    return np.array(x).astype('float32'), np.array(y).astype('float32')\n",
    "\n",
    "\n",
    "def model():\n",
    "    model = Sequential()\n",
    "    model.add(Lambda(lambda x: x / 127.5 - 1.0, input_shape=(image_rows, image_columns, image_channels)))\n",
    "    model.add(Conv2D(2, 3, 3, border_mode='valid', activation='elu'))\n",
    "    model.add(MaxPooling2D((4, 4), (4, 4), 'valid'))\n",
    "    model.add(Dropout(0.25))\n",
    "    model.add(Flatten())\n",
    "    model.add(Dense(1))\n",
    "\n",
    "    return model\n",
    "\n",
    "\n",
    "if __name__ == '__main__':\n",
    "    print(\"Loading images...\")\n",
    "\n",
    "    data = pd.read_csv(os.path.join(dataset_dir, \"/Users/jaydenmilton/Documents/Self-Driving-Car-Engineer-Nanodegree-Program/data/driving_log.csv\"))\n",
    "\n",
    "    X_train, y_train = prepare(data)\n",
    "    X_train, y_train = shuffle(X_train, y_train)\n",
    "    X_train = np.expand_dims(X_train, axis=3)\n",
    "\n",
    "    model = model()\n",
    "    model.compile('adam', 'mean_squared_error', ['mean_squared_error'])\n",
    "    checkpoint = ModelCheckpoint(\"model.h5\", monitor='val_mean_squared_error', verbose=1,\n",
    "                                  save_best_only=True, mode='min')\n",
    "    early_stop = EarlyStopping(monitor='val_mean_squared_error', min_delta=0.0001, patience=4,\n",
    "                                verbose=1, mode='min')\n",
    "    model.fit(X_train, y_train, batch_size=batch_size, nb_epoch=epochs, verbose=1,\n",
    "                      callbacks=[checkpoint, early_stop], validation_split=0.15, shuffle=True)\n",
    "\n",
    "    print(\"Saving model...\")\n",
    "    with open(\"model.json\", 'w') as outfile:\n",
    "        outfile.write(model.to_json())\n",
    "\n",
    "    print(\"Finished.\")"
   ]
  },
  {
   "cell_type": "code",
   "execution_count": null,
   "metadata": {},
   "outputs": [],
   "source": [
    "### data preprocessing \n",
    "\n",
    "X_train = np.array(images)\n",
    "y_train = np.array(measurements)\n",
    "\n",
    "from keras.models import Sequential\n",
    "from keras.layers import Flatten, Dense, Lambda\n",
    "\n",
    "model = Sequential()\n",
    "#first normalize the data image\n",
    "model.add = (Lambda(lambda x:x /255.0), input_shape = (160,320,3))\n",
    "#model.add = (Lambda(lambda x:x /255.0 -0.0), input_shape = (160,320,3))\n",
    "\n",
    "\n",
    "model.add(Flatten())\n",
    "model.add(Dense(1))\n",
    "\n",
    "model.compile(loss='mse', optimizer=\"adam\")\n",
    "#reducing the epoch, since the data had been overfitting \n",
    "model.fit(X_train, y_train, validation_split=0.2,shuffle=True, nb_epoch-5)\n",
    "\n",
    "\n"
   ]
  },
  {
   "cell_type": "code",
   "execution_count": null,
   "metadata": {},
   "outputs": [],
   "source": [
    "# data augrementation \n",
    "#numpy/cv2 has that \n",
    "#https://docs.opencv.org/2.4/modules/core/doc/operations_on_arrays.html#flip\n",
    "\n",
    "\n",
    "import numpy as np\n",
    "image_flipped = np.fliplr(image)\n",
    "measurement_flipped = -measurement\n",
    "\n"
   ]
  },
  {
   "cell_type": "code",
   "execution_count": null,
   "metadata": {},
   "outputs": [],
   "source": [
    "# multi-camera training \n",
    "\n",
    "\n",
    "with open(csv_file, 'r') as f:\n",
    "        reader = csv.reader(f)\n",
    "        for row in reader:\n",
    "            steering_center = float(row[3])\n",
    "\n",
    "            # create adjusted steering measurements for the side camera images\n",
    "            correction = 0.2 # this is a parameter to tune\n",
    "            steering_left = steering_center + correction\n",
    "            steering_right = steering_center - correction\n",
    "\n",
    "            # read in images from center, left and right cameras\n",
    "            path = \"...\" # fill in the path to your training IMG directory\n",
    "            img_center = process_image(np.asarray(Image.open(path + row[0])))\n",
    "            img_left = process_image(np.asarray(Image.open(path + row[1])))\n",
    "            img_right = process_image(np.asarray(Image.open(path + row[2])))\n",
    "\n",
    "            # add images and angles to data set\n",
    "            car_images.extend(img_center, img_left, img_right)\n",
    "            steering_angles.extend(steering_center, steering_left, steering_right)"
   ]
  },
  {
   "cell_type": "code",
   "execution_count": null,
   "metadata": {},
   "outputs": [],
   "source": [
    "#copping the image \n",
    "\n",
    "from keras.models import Sequential, Model\n",
    "from keras.layers import Cropping2D\n",
    "import cv2\n",
    "\n",
    "# set up cropping2D layer\n",
    "model = Sequential()\n",
    "model.add(Cropping2D(cropping=((50,20), (0,0)), input_shape=(3,160,320)))\n",
    "..."
   ]
  },
  {
   "cell_type": "code",
   "execution_count": null,
   "metadata": {},
   "outputs": [],
   "source": [
    "#Nvida network \n",
    "#fewer epoch steps that makes better "
   ]
  },
  {
   "cell_type": "code",
   "execution_count": null,
   "metadata": {},
   "outputs": [],
   "source": [
    "#visualizing loss \n",
    "\n",
    "from keras.models import Model\n",
    "import matplotlib.pyplot as plt\n",
    "\n",
    "history_object = model.fit_generator(train_generator, samples_per_epoch =\n",
    "    len(train_samples), validation_data = \n",
    "    validation_generator,\n",
    "    nb_val_samples = len(validation_samples), \n",
    "    nb_epoch=5, verbose=1)\n",
    "\n",
    "### print the keys contained in the history object\n",
    "print(history_object.history.keys())\n",
    "\n",
    "### plot the training and validation loss for each epoch\n",
    "plt.plot(history_object.history['loss'])\n",
    "plt.plot(history_object.history['val_loss'])\n",
    "plt.title('model mean squared error loss')\n",
    "plt.ylabel('mean squared error loss')\n",
    "plt.xlabel('epoch')\n",
    "plt.legend(['training set', 'validation set'], loc='upper right')\n",
    "plt.show()"
   ]
  },
  {
   "cell_type": "code",
   "execution_count": 50,
   "metadata": {},
   "outputs": [
    {
     "ename": "SyntaxError",
     "evalue": "EOF while scanning triple-quoted string literal (<ipython-input-50-b1fca75a62ac>, line 62)",
     "output_type": "error",
     "traceback": [
      "\u001b[0;36m  File \u001b[0;32m\"<ipython-input-50-b1fca75a62ac>\"\u001b[0;36m, line \u001b[0;32m62\u001b[0m\n\u001b[0;31m    \"\"\"\u001b[0m\n\u001b[0m       \n^\u001b[0m\n\u001b[0;31mSyntaxError\u001b[0m\u001b[0;31m:\u001b[0m EOF while scanning triple-quoted string literal\n"
     ]
    }
   ],
   "source": [
    "#Generators\n",
    "\n",
    "import os\n",
    "import csv\n",
    "\n",
    "samples = []\n",
    "with open('./driving_log.csv') as csvfile:\n",
    "    reader = csv.reader(csvfile)\n",
    "    for line in reader:\n",
    "        samples.append(line)\n",
    "\n",
    "from sklearn.model_selection import train_test_split\n",
    "train_samples, validation_samples = train_test_split(samples, test_size=0.2)\n",
    "\n",
    "import cv2\n",
    "import numpy as np\n",
    "import sklearn\n",
    "\n",
    "def generator(samples, batch_size=32):\n",
    "    num_samples = len(samples)\n",
    "    while 1: # Loop forever so the generator never terminates\n",
    "        shuffle(samples)\n",
    "        for offset in range(0, num_samples, batch_size):\n",
    "            batch_samples = samples[offset:offset+batch_size]\n",
    "\n",
    "            images = []\n",
    "            angles = []\n",
    "            for batch_sample in batch_samples:\n",
    "                name = './IMG/'+batch_sample[0].split('/')[-1]\n",
    "                center_image = cv2.imread(name)\n",
    "                center_angle = float(batch_sample[3])\n",
    "                images.append(center_image)\n",
    "                angles.append(center_angle)\n",
    "\n",
    "            # trim image to only see section with road\n",
    "            X_train = np.array(images)\n",
    "            y_train = np.array(angles)\n",
    "            yield sklearn.utils.shuffle(X_train, y_train)\n",
    "\n",
    "            '''\n",
    "# compile and train the model using the generator function\n",
    "train_generator = generator(train_samples, batch_size=32)\n",
    "validation_generator = generator(validation_samples, batch_size=32)\n",
    "\n",
    "ch, row, col = 3, 80, 320  # Trimmed image format\n",
    "\n",
    "model = Sequential()\n",
    "# Preprocess incoming data, centered around zero with small standard deviation \n",
    "model.add(Lambda(lambda x: x/127.5 - 1.,\n",
    "        input_shape=(ch, row, col),\n",
    "        output_shape=(ch, row, col)))\n",
    "model.add(... finish defining the rest of your model architecture here ...)\n",
    "\n",
    "model.compile(loss='mse', optimizer='adam')\n",
    "model.fit_generator(train_generator, samples_per_epoch= /\n",
    "            len(train_samples), validation_data=validation_generator, /\n",
    "            nb_val_samples=len(validation_samples), nb_epoch=3)\n",
    "\n",
    "\"\"\"\n",
    "If the above code throw exceptions, try \n",
    "model.fit_generator(train_generator, steps_per_epoch= len(train_samples),\n",
    "validation_data=validation_generator, validation_steps=len(validation_samples), epochs=5, verbose = 1)\n",
    "\"\"\""
   ]
  },
  {
   "cell_type": "code",
   "execution_count": null,
   "metadata": {},
   "outputs": [],
   "source": []
  }
 ],
 "metadata": {
  "kernelspec": {
   "display_name": "Python 3",
   "language": "python",
   "name": "python3"
  },
  "language_info": {
   "codemirror_mode": {
    "name": "ipython",
    "version": 3
   },
   "file_extension": ".py",
   "mimetype": "text/x-python",
   "name": "python",
   "nbconvert_exporter": "python",
   "pygments_lexer": "ipython3",
   "version": "3.5.2"
  },
  "widgets": {
   "state": {},
   "version": "1.1.2"
  }
 },
 "nbformat": 4,
 "nbformat_minor": 2
}
